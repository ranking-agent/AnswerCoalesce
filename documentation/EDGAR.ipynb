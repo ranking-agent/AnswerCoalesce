{
 "cells": [
  {
   "cell_type": "code",
   "id": "8326350d-5e74-4325-8d48-12b75062c032",
   "metadata": {
    "ExecuteTime": {
     "end_time": "2024-07-23T16:49:01.034930Z",
     "start_time": "2024-07-23T16:49:01.016589Z"
    }
   },
   "source": [
    "import requests\n",
    "import orjson"
   ],
   "outputs": [],
   "execution_count": 42
  },
  {
   "metadata": {
    "ExecuteTime": {
     "end_time": "2024-07-23T16:49:01.359604Z",
     "start_time": "2024-07-23T16:49:01.355017Z"
    }
   },
   "cell_type": "code",
   "source": "AC_URL = \"https://answercoalesce.renci.org/query\"",
   "id": "3eea7de271fa1438",
   "outputs": [],
   "execution_count": 43
  },
  {
   "metadata": {},
   "cell_type": "markdown",
   "source": "",
   "id": "bf8c76de4e6bf0c2"
  },
  {
   "metadata": {
    "ExecuteTime": {
     "end_time": "2024-07-23T19:30:33.286118Z",
     "start_time": "2024-07-23T19:30:33.280077Z"
    }
   },
   "cell_type": "code",
   "source": [
    "in_message1 = {\n",
    "        \"parameters\": {\n",
    "            \"pvalue_threshold\": 1e-5,\n",
    "            \"result_length\": 100,\n",
    "            \"predicates_to_exclude\": [\n",
    "                \"biolink:causes\", \"biolink:biomarker_for\", \"biolink:contraindicated_for\", \"biolink:contraindicated_in\",\n",
    "                \"biolink:contributes_to\", \"biolink:has_adverse_event\", \"biolink:causes_adverse_event\",\n",
    "                \"biolink:treats_or_applied_or_studied_to_treat\"\n",
    "            ]\n",
    "        },\n",
    "        \"message\": {\n",
    "            \"query_graph\": {\n",
    "                \"nodes\": {\n",
    "                    \"drug\": {\n",
    "                        \"categories\": [\n",
    "                            \"biolink:Drug\"\n",
    "                        ],\n",
    "                        \"is_set\": False,\n",
    "                        \"constraints\": []\n",
    "                    },\n",
    "                    \"disease\": {\n",
    "                        \"ids\": [\n",
    "                            \"MONDO:0004975\"\n",
    "                        ],\n",
    "                        \"is_set\": False,\n",
    "                        \"categories\": [\n",
    "                            \"biolink:Disease\"\n",
    "                        ],\n",
    "                        \"constraints\": []\n",
    "                    }\n",
    "                },\n",
    "                \"edges\": {\n",
    "                    \"e00\": {\n",
    "                        \"subject\": \"drug\",\n",
    "                        \"object\": \"disease\",\n",
    "                        \"predicates\": [\n",
    "                            \"biolink:treats\"\n",
    "                        ],\n",
    "                        \"knowledge_type\": \"inferred\",\n",
    "                        \"attribute_constraints\": [],\n",
    "                        \"qualifier_constraints\": []\n",
    "                    }\n",
    "                }\n",
    "            }\n",
    "        }\n",
    "    }\n"
   ],
   "id": "a47381ca82c2bfa9",
   "outputs": [],
   "execution_count": 65
  },
  {
   "metadata": {
    "ExecuteTime": {
     "end_time": "2024-07-23T13:31:03.198226Z",
     "start_time": "2024-07-23T13:31:03.195714Z"
    }
   },
   "cell_type": "code",
   "source": "in_message1[\"message\"][\"query_graph\"]",
   "id": "721b5a1d0b811254",
   "outputs": [
    {
     "data": {
      "text/plain": [
       "{'nodes': {'drug': {'categories': ['biolink:Drug'],\n",
       "   'is_set': False,\n",
       "   'constraints': []},\n",
       "  'disease': {'ids': ['MONDO:0004975'], 'is_set': False, 'constraints': []}},\n",
       " 'edges': {'e00': {'subject': 'drug',\n",
       "   'object': 'disease',\n",
       "   'predicates': ['biolink:treats'],\n",
       "   'knowledge_type': 'inferred',\n",
       "   'attribute_constraints': [],\n",
       "   'qualifier_constraints': []}}}"
      ]
     },
     "execution_count": 37,
     "metadata": {},
     "output_type": "execute_result"
    }
   ],
   "execution_count": 37
  },
  {
   "metadata": {
    "ExecuteTime": {
     "end_time": "2024-07-23T19:45:54.700162Z",
     "start_time": "2024-07-23T19:45:29.676043Z"
    }
   },
   "cell_type": "code",
   "source": [
    "def drug_to_disease_query(message):\n",
    "    response = requests.post( AC_URL, json = message )\n",
    "    print(response.status_code)\n",
    "    return response.json()\n",
    "\n",
    "answerset = drug_to_disease_query(in_message1)\n"
   ],
   "id": "65132f9b9673eda2",
   "outputs": [
    {
     "name": "stdout",
     "output_type": "stream",
     "text": [
      "200\n"
     ]
    }
   ],
   "execution_count": 68
  },
  {
   "metadata": {
    "ExecuteTime": {
     "end_time": "2024-07-23T19:46:58.377553Z",
     "start_time": "2024-07-23T19:46:58.371098Z"
    }
   },
   "cell_type": "code",
   "source": [
    "import json\n",
    "from string import Template\n",
    "\n",
    "def qg_template():\n",
    "    return '''{\n",
    "        \"query_graph\": {\n",
    "            \"nodes\": {\n",
    "                \"$source\": {\n",
    "                    \"ids\": $source_id,\n",
    "                    \"constraints\": [],\n",
    "                    \"is_set\": false,\n",
    "                    \"categories\": $source_category\n",
    "                },\n",
    "                \"$target\": {\n",
    "                    \"ids\": $target_id,\n",
    "                    \"is_set\": false,\n",
    "                    \"constraints\": [],\n",
    "                    \"categories\": $target_category\n",
    "                }\n",
    "            },\n",
    "            \"edges\": {\n",
    "                \"e00\": {\n",
    "                    \"subject\": \"$source\",\n",
    "                    \"object\": \"$target\",\n",
    "                    \"predicates\": $predicate,\n",
    "                    \"attribute_constraints\": [],\n",
    "                    \"qualifier_constraints\": $qualifier\n",
    "                }\n",
    "            }\n",
    "        }\n",
    "    }'''\n",
    "\n",
    "def get_qg(curie, is_source, predicates, source_category='', target_category='', object_aspect_qualifier=None, object_direction_qualifier=None):\n",
    "    if not is_source:\n",
    "        target_ids = curie\n",
    "        source_ids = []\n",
    "    else:\n",
    "        source_ids = curie\n",
    "        target_ids = []\n",
    "\n",
    "    source = source_category.split(\":\")[1].lower() if source_category else 'n0'\n",
    "    target = target_category.split(\":\")[1].lower() if target_category else 'n1'\n",
    "    query_template = Template(qg_template())\n",
    "    query = {}\n",
    "\n",
    "    source_category = [source_category] if source_category else []\n",
    "    target_category = [target_category] if target_category else []\n",
    "\n",
    "    quali = []\n",
    "    if object_aspect_qualifier and object_direction_qualifier:\n",
    "        quali = [\n",
    "            {\n",
    "                \"qualifier_set\": [\n",
    "                    {\n",
    "                        \"qualifier_type_id\": \"biolink:object_aspect_qualifier\",\n",
    "                        \"qualifier_value\": object_aspect_qualifier\n",
    "                    },\n",
    "                    {\n",
    "                        \"qualifier_type_id\": \"biolink:object_direction_qualifier\",\n",
    "                        \"qualifier_value\": object_direction_qualifier\n",
    "                    }\n",
    "                ]\n",
    "            }\n",
    "        ]\n",
    "\n",
    "    qs = query_template.substitute(source=source, target=target, source_id=json.dumps(source_ids),\n",
    "                                   target_id=json.dumps(target_ids),\n",
    "                                   source_category=json.dumps(source_category),\n",
    "                                   target_category=json.dumps(target_category), predicate=json.dumps(predicates),\n",
    "                                   qualifier=json.dumps(quali))\n",
    "\n",
    "    try:\n",
    "        query = json.loads(qs)\n",
    "        if not is_source:\n",
    "            del query[\"query_graph\"][\"nodes\"][source][\"ids\"]\n",
    "        else:\n",
    "            del query[\"query_graph\"][\"nodes\"][target][\"ids\"]\n",
    "    except UnicodeDecodeError as e:\n",
    "        print(e)\n",
    "    return query\n",
    "\n",
    "parameters = {\n",
    "    \"pvalue_threshold\": 1e-5,\n",
    "    \"result_length\": 100,\n",
    "    \"predicates_to_exclude\": [\n",
    "        \"biolink:causes\", \"biolink:biomarker_for\", \"biolink:contraindicated_for\", \"biolink:contraindicated_in\",\n",
    "        \"biolink:contributes_to\", \"biolink:has_adverse_event\", \"biolink:causes_adverse_event\",\n",
    "        \"biolink:treats_or_applied_or_studied_to_treat\"\n",
    "    ]\n",
    "}\n",
    "\n",
    "message = get_qg(\n",
    "    curie=[\"MONDO:0004975\"],\n",
    "    is_source=False,\n",
    "    predicates=[\"biolink:treats\"],\n",
    "    source_category=\"biolink:Drug\",\n",
    "    target_category=\"biolink:Disease\",\n",
    "    object_aspect_qualifier=None,\n",
    "    object_direction_qualifier=None\n",
    ")\n",
    "\n",
    "final_query = {\n",
    "    \"parameters\": parameters,\n",
    "    \"message\": message\n",
    "}\n",
    "\n",
    "print(json.dumps(final_query, indent=2))\n",
    "# answerset1 = drug_to_disease_query(final_query)"
   ],
   "id": "fff60755a96e7eac",
   "outputs": [
    {
     "name": "stdout",
     "output_type": "stream",
     "text": [
      "{\n",
      "  \"parameters\": {\n",
      "    \"pvalue_threshold\": 1e-05,\n",
      "    \"result_length\": 100,\n",
      "    \"predicates_to_exclude\": [\n",
      "      \"biolink:causes\",\n",
      "      \"biolink:biomarker_for\",\n",
      "      \"biolink:contraindicated_for\",\n",
      "      \"biolink:contraindicated_in\",\n",
      "      \"biolink:contributes_to\",\n",
      "      \"biolink:has_adverse_event\",\n",
      "      \"biolink:causes_adverse_event\",\n",
      "      \"biolink:treats_or_applied_or_studied_to_treat\"\n",
      "    ]\n",
      "  },\n",
      "  \"message\": {\n",
      "    \"query_graph\": {\n",
      "      \"nodes\": {\n",
      "        \"drug\": {\n",
      "          \"constraints\": [],\n",
      "          \"is_set\": false,\n",
      "          \"categories\": [\n",
      "            \"biolink:Drug\"\n",
      "          ]\n",
      "        },\n",
      "        \"disease\": {\n",
      "          \"ids\": [\n",
      "            \"MONDO:0004975\"\n",
      "          ],\n",
      "          \"is_set\": false,\n",
      "          \"constraints\": [],\n",
      "          \"categories\": [\n",
      "            \"biolink:Disease\"\n",
      "          ]\n",
      "        }\n",
      "      },\n",
      "      \"edges\": {\n",
      "        \"e00\": {\n",
      "          \"subject\": \"drug\",\n",
      "          \"object\": \"disease\",\n",
      "          \"predicates\": [\n",
      "            \"biolink:treats\"\n",
      "          ],\n",
      "          \"attribute_constraints\": [],\n",
      "          \"qualifier_constraints\": []\n",
      "        }\n",
      "      }\n",
      "    }\n",
      "  }\n",
      "}\n"
     ]
    }
   ],
   "execution_count": 70
  },
  {
   "metadata": {
    "ExecuteTime": {
     "end_time": "2024-07-23T19:31:25.605073Z",
     "start_time": "2024-07-23T19:31:25.597633Z"
    }
   },
   "cell_type": "code",
   "source": [
    "query_graph = answerset[\"message\"][\"query_graph\"]\n",
    "kg_edges = answerset[\"message\"][\"knowledge_graph\"][\"edges\"]\n",
    "kg_nodes = answerset[\"message\"][\"knowledge_graph\"][\"nodes\"]\n",
    "results = answerset[\"message\"][\"results\"]\n",
    "aux_graphs = answerset[\"message\"][\"auxiliary_graphs\"]\n",
    "\n",
    "for qedge_id, qedges  in query_graph.get(\"edges\", {}).items():\n",
    "    subject = query_graph.get(\"nodes\", {})[qedges[\"subject\"]]\n",
    "    object = query_graph.get(\"nodes\", {})[qedges[\"object\"]]\n",
    "    if subject.get(\"ids\", []):\n",
    "        is_source = True\n",
    "    else:\n",
    "        is_source = False\n"
   ],
   "id": "92f53e45aa320d35",
   "outputs": [],
   "execution_count": 67
  },
  {
   "metadata": {},
   "cell_type": "markdown",
   "source": "# Let's trace one result",
   "id": "9f8fbf53c5c16ac9"
  },
  {
   "metadata": {
    "ExecuteTime": {
     "end_time": "2024-07-23T16:49:40.782462Z",
     "start_time": "2024-07-23T16:49:40.778308Z"
    }
   },
   "cell_type": "code",
   "source": "len(results)",
   "id": "accc4ef9eba3a411",
   "outputs": [
    {
     "data": {
      "text/plain": [
       "1246"
      ]
     },
     "execution_count": 47,
     "metadata": {},
     "output_type": "execute_result"
    }
   ],
   "execution_count": 47
  },
  {
   "metadata": {
    "ExecuteTime": {
     "end_time": "2024-07-27T20:01:12.386340Z",
     "start_time": "2024-07-27T20:01:12.320830Z"
    }
   },
   "cell_type": "code",
   "source": "results",
   "id": "ba659d75daec41fc",
   "outputs": [
    {
     "ename": "NameError",
     "evalue": "name 'results' is not defined",
     "output_type": "error",
     "traceback": [
      "\u001B[0;31m---------------------------------------------------------------------------\u001B[0m",
      "\u001B[0;31mNameError\u001B[0m                                 Traceback (most recent call last)",
      "Cell \u001B[0;32mIn[1], line 1\u001B[0m\n\u001B[0;32m----> 1\u001B[0m \u001B[43mresults\u001B[49m\n",
      "\u001B[0;31mNameError\u001B[0m: name 'results' is not defined"
     ]
    }
   ],
   "execution_count": 1
  },
  {
   "metadata": {
    "ExecuteTime": {
     "end_time": "2024-07-23T16:49:56.034117Z",
     "start_time": "2024-07-23T16:49:56.030156Z"
    }
   },
   "cell_type": "code",
   "source": [
    "# support_graphs = None\n",
    "# for i in range(len(results)):\n",
    "#     for eid, edge in results[i][\"analyses\"][0][\"edge_bindings\"].items():\n",
    "#         inferred_edge = edge[0][\"id\"]\n",
    "#         inferred_edge_string = f'{kg_nodes[kg_edges[inferred_edge][\"subject\"]][\"name\"]}-({kg_edges[inferred_edge][\"predicate\"]})->{kg_nodes[kg_edges[inferred_edge][\"object\"]][\"name\"]}'\n",
    "#         #Let's see the inferred_edge in the KG then extract it support graphs\n",
    "#         # support_graphs = [attributes[\"value\"] for attributes in kg_edges[inferred_edge][\"attributes\"] if attributes[\"attribute_type_id\"] == \"biolink:support_graphs\"]\n",
    "#         # if len(support_graphs)==1: \n",
    "#         print(f'{i+1}: {inferred_edge_string}')\n",
    "#                 # print(i)\n",
    "#                 # break\n"
   ],
   "id": "575350c261555829",
   "outputs": [],
   "execution_count": 48
  },
  {
   "metadata": {
    "ExecuteTime": {
     "end_time": "2024-07-23T16:49:56.545437Z",
     "start_time": "2024-07-23T16:49:56.541176Z"
    }
   },
   "cell_type": "code",
   "source": [
    "# Now let's explore the path for any of the results\n",
    "i = 1\n",
    "\n",
    "support_graphs = None\n",
    "for eid, edge in results[i][\"analyses\"][0][\"edge_bindings\"].items():\n",
    "    inferred_edge = edge[0][\"id\"]\n",
    "    #Let's see the inferred_edge in the KG then extract it support graphs\n",
    "    support_graphs = [attributes[\"value\"] for attributes in kg_edges[inferred_edge][\"attributes\"] if attributes[\"attribute_type_id\"] == \"biolink:support_graphs\"]\n",
    "    support_graphs = sorted(support_graphs)\n",
    "    # if len(support_graphs) > 1: \n",
    "    print(f'{inferred_edge}==> \\n{\" ^ \\n\".join(support_graphs)}')\n",
    "        # print(i)\n",
    "        # break\n"
   ],
   "id": "b7b88e9f3c86230f",
   "outputs": [
    {
     "name": "stdout",
     "output_type": "stream",
     "text": [
      "CHEBI:553827_Inferred_to_biolink:treats_MONDO:0004975==> \n",
      "e_Inferred_SG:_CHEBI:553827_Inferred_to_biolink:treats_MONDO:0004975_via_CHEBI:553827_biolink:affects_NCBIGene:43 ^ \n",
      "e_Inferred_SG:_CHEBI:553827_Inferred_to_biolink:treats_MONDO:0004975_via_CHEBI:553827_biolink:affects_NCBIGene:590 ^ \n",
      "e_Inferred_SG:_CHEBI:553827_Inferred_to_biolink:treats_MONDO:0004975_via_CHEBI:553827_biolink:affects_NCBIGene:65036 ^ \n",
      "e_Inferred_SG:_CHEBI:553827_Inferred_to_biolink:treats_MONDO:0004975_via_CHEBI:553827_biolink:affects_NCBIGene:83817 ^ \n",
      "e_Inferred_SG:_CHEBI:553827_Inferred_to_biolink:treats_MONDO:0004975_via_CHEBI:553827_biolink:affects_UniProtKB:P81908 ^ \n",
      "n_Inferred_SG:_CHEBI:553827_Inferred_to_biolink:treats_MONDO:0004975_via_CHEBI:553827_biolink:has_chemical_role_CHEBI_ROLE_EC_3.1.1_carboxylic_ester_hydrolase_inhibitor ^ \n",
      "n_Inferred_SG:_CHEBI:553827_Inferred_to_biolink:treats_MONDO:0004975_via_CHEBI:553827_biolink:has_chemical_role_CHEBI_ROLE_neurotransmitter_agent\n"
     ]
    }
   ],
   "execution_count": 49
  },
  {
   "metadata": {
    "ExecuteTime": {
     "end_time": "2024-07-23T16:52:17.828472Z",
     "start_time": "2024-07-23T16:52:17.826447Z"
    }
   },
   "cell_type": "code",
   "source": [
    "g_support_graph = support_graphs[0] # Graph(edge) Inferred\n",
    "p_support_graph = support_graphs[-1] # Property(node) Inferred"
   ],
   "id": "2d0e4c1ec45015cd",
   "outputs": [],
   "execution_count": 51
  },
  {
   "metadata": {},
   "cell_type": "markdown",
   "source": [
    "#### This implies that the inference was driven by both graph enrichment and property enrichment\n",
    "\n",
    "### 1. GRAPH ENRICHMENT ROUTE: e_Inferred_SG:........'\n"
   ],
   "id": "725d260b25ee601a"
  },
  {
   "metadata": {
    "ExecuteTime": {
     "end_time": "2024-07-12T14:31:38.647377Z",
     "start_time": "2024-07-12T14:31:38.642975Z"
    }
   },
   "cell_type": "code",
   "source": [
    "# Tracing the support graph to the auxiliary components\n",
    "aux_graph_edges = aux_graphs.get(g_support_graph).get(\"edges\")\n",
    "print(f'{inferred_edge}---> {\" ^ \".join(aux_graph_edges)}')\n",
    "\n",
    "# # The aux_graph has 3 edges\n",
    "# 1. Inferred_node to the enrichment\n",
    "# 2. Enrichment to the Groupset enriched\n",
    "# 3. the Groupset enriched to the qg Curie"
   ],
   "id": "6c91b6cc3c0773bf",
   "outputs": [
    {
     "name": "stdout",
     "output_type": "stream",
     "text": [
      "CHEBI:28939_Inferred_to_biolink:treats_MONDO:0004979---> CHEBI:28939_biolink:treats_MONDO:0003781 ^ e_uuid:1_biolink:treats_or_applied_or_studied_to_treat_MONDO:0003781 ^ uuid:1_biolink:treats_MONDO:0004979\n"
     ]
    }
   ],
   "execution_count": 162
  },
  {
   "metadata": {
    "ExecuteTime": {
     "end_time": "2024-07-12T14:31:40.334239Z",
     "start_time": "2024-07-12T14:31:40.331745Z"
    }
   },
   "cell_type": "code",
   "source": "aux_graph_edges",
   "id": "7f8db9a33a144271",
   "outputs": [
    {
     "data": {
      "text/plain": [
       "['CHEBI:28939_biolink:treats_MONDO:0003781',\n",
       " 'e_uuid:1_biolink:treats_or_applied_or_studied_to_treat_MONDO:0003781',\n",
       " 'uuid:1_biolink:treats_MONDO:0004979']"
      ]
     },
     "execution_count": 163,
     "metadata": {},
     "output_type": "execute_result"
    }
   ],
   "execution_count": 163
  },
  {
   "metadata": {},
   "cell_type": "markdown",
   "source": "##### Let's dig further down the path",
   "id": "8080fac5e3c61a6e"
  },
  {
   "metadata": {
    "ExecuteTime": {
     "end_time": "2024-07-12T14:31:42.764923Z",
     "start_time": "2024-07-12T14:31:42.763152Z"
    }
   },
   "cell_type": "code",
   "source": [
    "inf2enrichment_aux_graph_edge = ''\n",
    "enrich2group_aux_graph_edge = ''\n",
    "group2curie_aux_graph_edge = ''\n",
    "for aedge in aux_graph_edges:\n",
    "    support = [attributes[\"value\"] for attributes in kg_edges[aedge][\"attributes\"]]\n",
    "    if support:\n",
    "        if isinstance(support[0], list):\n",
    "            enrich2group_aux_graph_edge = aedge\n",
    "        else:\n",
    "            group2curie_aux_graph_edge = aedge\n",
    "    else:\n",
    "        inf2enrichment_aux_graph_edge = aedge"
   ],
   "id": "3ddb8d6e2cf96eb0",
   "outputs": [],
   "execution_count": 164
  },
  {
   "metadata": {
    "ExecuteTime": {
     "end_time": "2024-07-12T14:31:43.365713Z",
     "start_time": "2024-07-12T14:31:43.362684Z"
    }
   },
   "cell_type": "code",
   "source": [
    "# The first edge: \n",
    "inf2enrichmentedge=kg_edges[inf2enrichment_aux_graph_edge]\n",
    "inf2enrichmentedge"
   ],
   "id": "86470755f8ea28df",
   "outputs": [
    {
     "data": {
      "text/plain": [
       "{'subject': 'CHEBI:28939',\n",
       " 'object': 'MONDO:0003781',\n",
       " 'predicate': 'biolink:treats',\n",
       " 'sources': [{'resource_id': 'infores:drugcentral',\n",
       "   'resource_role': 'primary_knowledge_source'}],\n",
       " 'attributes': []}"
      ]
     },
     "execution_count": 165,
     "metadata": {},
     "output_type": "execute_result"
    }
   ],
   "execution_count": 165
  },
  {
   "metadata": {
    "ExecuteTime": {
     "end_time": "2024-07-12T14:31:44.903382Z",
     "start_time": "2024-07-12T14:31:44.899970Z"
    }
   },
   "cell_type": "code",
   "source": [
    "print(f\"{kg_nodes[inf2enrichmentedge['subject']]['name']} -({inf2enrichmentedge['predicate']})-> {kg_nodes[inf2enrichmentedge['object']]['name']}\")\n",
    "print()\n",
    "print(inf2enrichmentedge)\n",
    "# implies:  inferred_node -(rel)- enrichment. It has no support graph so we stop digging"
   ],
   "id": "2d7f614112fd6fdb",
   "outputs": [
    {
     "name": "stdout",
     "output_type": "stream",
     "text": [
      "N-acetyl-L-cysteine -(biolink:treats)-> bronchitis\n",
      "\n",
      "{'subject': 'CHEBI:28939', 'object': 'MONDO:0003781', 'predicate': 'biolink:treats', 'sources': [{'resource_id': 'infores:drugcentral', 'resource_role': 'primary_knowledge_source'}], 'attributes': []}\n"
     ]
    }
   ],
   "execution_count": 166
  },
  {
   "metadata": {
    "ExecuteTime": {
     "end_time": "2024-07-12T14:31:46.162361Z",
     "start_time": "2024-07-12T14:31:46.159545Z"
    }
   },
   "cell_type": "code",
   "source": [
    "# The second edge: \n",
    "enrichment2group_edge = kg_edges[enrich2group_aux_graph_edge]\n",
    "enrichment2group_edge\n",
    "# This is the enrichment - (rel) - lookup_set "
   ],
   "id": "f0cbcf9d006d6c44",
   "outputs": [
    {
     "data": {
      "text/plain": [
       "{'subject': 'uuid:1',\n",
       " 'object': 'MONDO:0003781',\n",
       " 'predicate': 'biolink:treats_or_applied_or_studied_to_treat',\n",
       " 'sources': [{'resource_id': 'infores:answercoalesce',\n",
       "   'resource_role': 'primary_knowledge_source'}],\n",
       " 'qualifiers': [],\n",
       " 'attributes': [{'attribute_type_id': 'biolink:support_graphs',\n",
       "   'value': ['SG:_e_CHEBI:8378_biolink:treats_or_applied_or_studied_to_treat_MONDO:0003781',\n",
       "    'SG:_e_CHEBI:3897_biolink:treats_or_applied_or_studied_to_treat_MONDO:0003781',\n",
       "    'SG:_e_CHEBI:9449_biolink:treats_or_applied_or_studied_to_treat_MONDO:0003781',\n",
       "    'SG:_e_CHEBI:91495_biolink:treats_or_applied_or_studied_to_treat_MONDO:0003781',\n",
       "    'SG:_e_CHEBI:28177_biolink:treats_or_applied_or_studied_to_treat_MONDO:0003781',\n",
       "    'SG:_e_CHEBI:18357_biolink:treats_or_applied_or_studied_to_treat_MONDO:0003781',\n",
       "    'SG:_e_CHEBI:8245_biolink:treats_or_applied_or_studied_to_treat_MONDO:0003781',\n",
       "    'SG:_e_CHEBI:9667_biolink:treats_or_applied_or_studied_to_treat_MONDO:0003781',\n",
       "    'SG:_e_CHEBI:15407_biolink:treats_or_applied_or_studied_to_treat_MONDO:0003781',\n",
       "    'SG:_e_CHEBI:6792_biolink:treats_or_applied_or_studied_to_treat_MONDO:0003781',\n",
       "    'SG:_e_PUBCHEM.COMPOUND:9433_biolink:treats_or_applied_or_studied_to_treat_MONDO:0003781',\n",
       "    'SG:_e_CHEBI:28918_biolink:treats_or_applied_or_studied_to_treat_MONDO:0003781',\n",
       "    'SG:_e_CHEBI:64064_biolink:treats_or_applied_or_studied_to_treat_MONDO:0003781',\n",
       "    'SG:_e_CHEBI:6888_biolink:treats_or_applied_or_studied_to_treat_MONDO:0003781',\n",
       "    'SG:_e_CHEBI:3077_biolink:treats_or_applied_or_studied_to_treat_MONDO:0003781'],\n",
       "   'attribute_source': 'infores:answercoalesce'}]}"
      ]
     },
     "execution_count": 167,
     "metadata": {},
     "output_type": "execute_result"
    }
   ],
   "execution_count": 167
  },
  {
   "metadata": {
    "ExecuteTime": {
     "end_time": "2024-07-12T14:31:48.601766Z",
     "start_time": "2024-07-12T14:31:48.597782Z"
    }
   },
   "cell_type": "code",
   "source": [
    "# The enrichment - groupset has many support graph, so we dig further\n",
    "print(f\"{enrich2group_aux_graph_edge}:===>\")\n",
    "print()\n",
    "for attributes in enrichment2group_edge[\"attributes\"]:\n",
    "    enrichment2group_support_graphs = attributes[\"value\"]\n",
    "    # Each of these exists in the auxiliary graph\n",
    "    for i, e2group_sp in enumerate(enrichment2group_support_graphs):\n",
    "        e2group_edges = aux_graphs[e2group_sp][\"edges\"]\n",
    "        theedges0 = kg_edges[e2group_edges[0]]\n",
    "        theedges1 = kg_edges[e2group_edges[1]]\n",
    "        print(f'Path{i+1}: {kg_nodes[theedges0[\"subject\"]][\"name\"]}--({theedges0[\"predicate\"]})-->{kg_nodes[theedges0[\"object\"]][\"name\"]} ^ {kg_nodes[theedges1[\"subject\"]][\"name\"]}--({theedges1[\"predicate\"]})-->{kg_nodes[theedges1[\"object\"]][\"name\"]}')\n",
    "        print()\n",
    "# 4 members of set uuid affects `NCBIGene:83817`         "
   ],
   "id": "fbb2628443c46e8a",
   "outputs": [
    {
     "name": "stdout",
     "output_type": "stream",
     "text": [
      "e_uuid:1_biolink:treats_or_applied_or_studied_to_treat_MONDO:0003781:===>\n",
      "\n",
      "Path1: prednisolone--(biolink:member_of)-->uuid:1 ^ prednisolone--(biolink:treats_or_applied_or_studied_to_treat)-->bronchitis\n",
      "\n",
      "Path2: Cortisone acetate--(biolink:treats_or_applied_or_studied_to_treat)-->bronchitis ^ Cortisone acetate--(biolink:member_of)-->uuid:1\n",
      "\n",
      "Path3: terbutaline--(biolink:treats_or_applied_or_studied_to_treat)-->bronchitis ^ terbutaline--(biolink:member_of)-->uuid:1\n",
      "\n",
      "Path4: 3-hydroxy-2-phenylpropanoic acid (8-methyl-8-propan-2-yl-8-azoniabicyclo[3.2.1]octan-3-yl) ester--(biolink:treats_or_applied_or_studied_to_treat)-->bronchitis ^ 3-hydroxy-2-phenylpropanoic acid (8-methyl-8-propan-2-yl-8-azoniabicyclo[3.2.1]octan-3-yl) ester--(biolink:member_of)-->uuid:1\n",
      "\n",
      "Path5: theophylline--(biolink:treats_or_applied_or_studied_to_treat)-->bronchitis ^ theophylline--(biolink:member_of)-->uuid:1\n",
      "\n",
      "Path6: (R)-noradrenaline--(biolink:member_of)-->uuid:1 ^ (R)-noradrenaline--(biolink:treats_or_applied_or_studied_to_treat)-->bronchitis\n",
      "\n",
      "Path7: Pirbuterol--(biolink:member_of)-->uuid:1 ^ Pirbuterol--(biolink:treats_or_applied_or_studied_to_treat)-->bronchitis\n",
      "\n",
      "Path8: triamcinolone--(biolink:treats_or_applied_or_studied_to_treat)-->bronchitis ^ triamcinolone--(biolink:member_of)-->uuid:1\n",
      "\n",
      "Path9: (-)-ephedrine--(biolink:member_of)-->uuid:1 ^ (-)-ephedrine--(biolink:treats_or_applied_or_studied_to_treat)-->bronchitis\n",
      "\n",
      "Path10: metaproterenol--(biolink:treats_or_applied_or_studied_to_treat)-->bronchitis ^ metaproterenol--(biolink:member_of)-->uuid:1\n",
      "\n",
      "Path11: Aminophylline--(biolink:member_of)-->uuid:1 ^ Aminophylline--(biolink:treats_or_applied_or_studied_to_treat)-->bronchitis\n",
      "\n",
      "Path12: (R)-adrenaline--(biolink:member_of)-->uuid:1 ^ (R)-adrenaline--(biolink:treats_or_applied_or_studied_to_treat)-->bronchitis\n",
      "\n",
      "Path13: 2-(hydroxymethyl)-4-(1-hydroxy-2-{[6-(4-phenylbutoxy)hexyl]amino}ethyl)phenol--(biolink:member_of)-->uuid:1 ^ 2-(hydroxymethyl)-4-(1-hydroxy-2-{[6-(4-phenylbutoxy)hexyl]amino}ethyl)phenol--(biolink:treats_or_applied_or_studied_to_treat)-->bronchitis\n",
      "\n",
      "Path14: 6alpha-methylprednisolone--(biolink:treats_or_applied_or_studied_to_treat)-->bronchitis ^ 6alpha-methylprednisolone--(biolink:member_of)-->uuid:1\n",
      "\n",
      "Path15: betamethasone--(biolink:member_of)-->uuid:1 ^ betamethasone--(biolink:treats_or_applied_or_studied_to_treat)-->bronchitis\n",
      "\n"
     ]
    }
   ],
   "execution_count": 168
  },
  {
   "metadata": {
    "ExecuteTime": {
     "end_time": "2024-07-11T14:53:25.357805Z",
     "start_time": "2024-07-11T14:53:25.354821Z"
    }
   },
   "cell_type": "code",
   "source": "aux_graphs[e2group_sp][\"edges\"]",
   "id": "f623fdf418e4ee75",
   "outputs": [
    {
     "data": {
      "text/plain": [
       "['CHEBI:5783_member_of_uuid:1', 'e_CHEBI:5783_biolink:affects_NCBIGene:1437']"
      ]
     },
     "execution_count": 135,
     "metadata": {},
     "output_type": "execute_result"
    }
   ],
   "execution_count": 135
  },
  {
   "metadata": {
    "ExecuteTime": {
     "end_time": "2024-07-11T14:53:26.464513Z",
     "start_time": "2024-07-11T14:53:26.461544Z"
    }
   },
   "cell_type": "code",
   "source": [
    "# The third edge: \n",
    "print(kg_edges[group2curie_aux_graph_edge])\n",
    "\n",
    "# implies:  the Groupset- qg Curie edge. It has support graph of members of the group, so we stop digging"
   ],
   "id": "1c6e96649eb25909",
   "outputs": [
    {
     "name": "stdout",
     "output_type": "stream",
     "text": [
      "{'subject': 'uuid:1', 'object': 'MONDO:0004979', 'predicate': 'biolink:treats', 'sources': [{'resource_id': 'infores:answercoalesce', 'resource_role': 'primary_knowledge_source'}], 'attributes': [{'attribute_type_id': 'biolink:support_graphs', 'value': 'SG:_uuid:1_biolink:treats_MONDO:0004979', 'attribute_source': 'infores:answercoalesce'}]}\n"
     ]
    }
   ],
   "execution_count": 136
  },
  {
   "metadata": {
    "ExecuteTime": {
     "end_time": "2024-07-11T14:54:02.733575Z",
     "start_time": "2024-07-11T14:54:02.730149Z"
    }
   },
   "cell_type": "code",
   "source": "group2curie_aux_graph_edge",
   "id": "df27182ad53dd5a7",
   "outputs": [
    {
     "data": {
      "text/plain": [
       "'uuid:1_biolink:treats_MONDO:0004979'"
      ]
     },
     "execution_count": 137,
     "metadata": {},
     "output_type": "execute_result"
    }
   ],
   "execution_count": 137
  },
  {
   "metadata": {
    "ExecuteTime": {
     "end_time": "2024-07-11T14:54:03.318662Z",
     "start_time": "2024-07-11T14:54:03.314251Z"
    }
   },
   "cell_type": "code",
   "source": [
    "# CURIE-PHYSIO\n",
    "print(f\"{group2curie_aux_graph_edge}:===>\")\n",
    "for attributes in kg_edges[group2curie_aux_graph_edge][\"attributes\"]:\n",
    "    sgs = attributes['value']\n",
    "    sgedges = sorted(aux_graphs[sgs][\"edges\"])\n",
    "    j = 0; path = 1\n",
    "    while j < len(sgedges)-1:\n",
    "        p1 = kg_edges[sgedges[j]]\n",
    "        p2 = kg_edges[sgedges[j+1]]\n",
    "        print(f'Path{path}: {kg_nodes[p2[\"subject\"]][\"name\"]}-({p2[\"predicate\"]})->{kg_nodes[p2[\"object\"]][\"name\"]} ^ {kg_nodes[p1[\"subject\"]][\"name\"]}-({p1[\"predicate\"]})->{kg_nodes[p1[\"object\"]][\"name\"]}')\n",
    "        j+=2\n",
    "        path+=1"
   ],
   "id": "358c7cf051de828b",
   "outputs": [
    {
     "name": "stdout",
     "output_type": "stream",
     "text": [
      "uuid:1_biolink:treats_MONDO:0004979:===>\n",
      "Path1: zafirlukast-(biolink:member_of)->uuid:1 ^ zafirlukast-(biolink:treats)->asthma\n",
      "Path2: zileuton-(biolink:member_of)->uuid:1 ^ zileuton-(biolink:treats)->asthma\n",
      "Path3: pemirolast-(biolink:member_of)->uuid:1 ^ pemirolast-(biolink:treats)->asthma\n",
      "Path4: (-)-ephedrine-(biolink:member_of)->uuid:1 ^ (-)-ephedrine-(biolink:treats)->asthma\n",
      "Path5: (R)-noradrenaline-(biolink:member_of)->uuid:1 ^ (R)-noradrenaline-(biolink:treats)->asthma\n",
      "Path6: desonide-(biolink:member_of)->uuid:1 ^ desonide-(biolink:treats)->asthma\n",
      "Path7: albuterol-(biolink:member_of)->uuid:1 ^ albuterol-(biolink:treats)->asthma\n",
      "Path8: theophylline-(biolink:member_of)->uuid:1 ^ theophylline-(biolink:treats)->asthma\n",
      "Path9: (R)-adrenaline-(biolink:member_of)->uuid:1 ^ (R)-adrenaline-(biolink:treats)->asthma\n",
      "Path10: beclomethasone-(biolink:member_of)->uuid:1 ^ beclomethasone-(biolink:treats)->asthma\n",
      "Path11: betamethasone-(biolink:member_of)->uuid:1 ^ betamethasone-(biolink:treats)->asthma\n",
      "Path12: Ciclesonide-(biolink:member_of)->uuid:1 ^ Ciclesonide-(biolink:treats)->asthma\n",
      "Path13: budesonide-(biolink:member_of)->uuid:1 ^ budesonide-(biolink:treats)->asthma\n",
      "Path14: Cortisone acetate-(biolink:member_of)->uuid:1 ^ Cortisone acetate-(biolink:treats)->asthma\n",
      "Path15: arformoterol-(biolink:member_of)->uuid:1 ^ arformoterol-(biolink:treats)->asthma\n",
      "Path16: Dexamethasone acetate-(biolink:member_of)->uuid:1 ^ Dexamethasone acetate-(biolink:treats)->asthma\n",
      "Path17: troleandomycin-(biolink:member_of)->uuid:1 ^ troleandomycin-(biolink:treats)->asthma\n",
      "Path18: dyphylline-(biolink:member_of)->uuid:1 ^ dyphylline-(biolink:treats)->asthma\n",
      "Path19: montelukast-(biolink:member_of)->uuid:1 ^ montelukast-(biolink:treats)->asthma\n",
      "Path20: flunisolide-(biolink:member_of)->uuid:1 ^ flunisolide-(biolink:treats)->asthma\n",
      "Path21: pseudoephedrine-(biolink:member_of)->uuid:1 ^ pseudoephedrine-(biolink:treats)->asthma\n",
      "Path22: fluticasone-(biolink:member_of)->uuid:1 ^ fluticasone-(biolink:treats)->asthma\n",
      "Path23: formoterol-(biolink:member_of)->uuid:1 ^ formoterol-(biolink:treats)->asthma\n",
      "Path24: Guaifenesin-(biolink:member_of)->uuid:1 ^ Guaifenesin-(biolink:treats)->asthma\n",
      "Path25: Hydrocortisone cypionate-(biolink:member_of)->uuid:1 ^ Hydrocortisone cypionate-(biolink:treats)->asthma\n",
      "Path26: cromoglycic acid-(biolink:member_of)->uuid:1 ^ cromoglycic acid-(biolink:treats)->asthma\n",
      "Path27: Isoetharine-(biolink:member_of)->uuid:1 ^ Isoetharine-(biolink:treats)->asthma\n",
      "Path28: 2-(hydroxymethyl)-4-(1-hydroxy-2-{[6-(4-phenylbutoxy)hexyl]amino}ethyl)phenol-(biolink:member_of)->uuid:1 ^ 2-(hydroxymethyl)-4-(1-hydroxy-2-{[6-(4-phenylbutoxy)hexyl]amino}ethyl)phenol-(biolink:treats)->asthma\n",
      "Path29: isoprenaline-(biolink:member_of)->uuid:1 ^ isoprenaline-(biolink:treats)->asthma\n",
      "Path30: loratadine-(biolink:member_of)->uuid:1 ^ loratadine-(biolink:treats)->asthma\n",
      "Path31: metaproterenol-(biolink:member_of)->uuid:1 ^ metaproterenol-(biolink:treats)->asthma\n",
      "Path32: indacaterol-(biolink:member_of)->uuid:1 ^ indacaterol-(biolink:treats)->asthma\n",
      "Path33: 6alpha-methylprednisolone-(biolink:member_of)->uuid:1 ^ 6alpha-methylprednisolone-(biolink:treats)->asthma\n",
      "Path34: mometasone-(biolink:member_of)->uuid:1 ^ mometasone-(biolink:treats)->asthma\n",
      "Path35: nedocromil-(biolink:member_of)->uuid:1 ^ nedocromil-(biolink:treats)->asthma\n",
      "Path36: vilanterol-(biolink:member_of)->uuid:1 ^ vilanterol-(biolink:treats)->asthma\n",
      "Path37: Pirbuterol-(biolink:member_of)->uuid:1 ^ Pirbuterol-(biolink:treats)->asthma\n",
      "Path38: prednisolone-(biolink:member_of)->uuid:1 ^ prednisolone-(biolink:treats)->asthma\n",
      "Path39: prednisone-(biolink:member_of)->uuid:1 ^ prednisone-(biolink:treats)->asthma\n",
      "Path40: 3-hydroxy-2-phenylpropanoic acid (8-methyl-8-propan-2-yl-8-azoniabicyclo[3.2.1]octan-3-yl) ester-(biolink:member_of)->uuid:1 ^ 3-hydroxy-2-phenylpropanoic acid (8-methyl-8-propan-2-yl-8-azoniabicyclo[3.2.1]octan-3-yl) ester-(biolink:treats)->asthma\n",
      "Path41: ketotifen-(biolink:member_of)->uuid:1 ^ ketotifen-(biolink:treats)->asthma\n",
      "Path42: terbutaline-(biolink:member_of)->uuid:1 ^ terbutaline-(biolink:treats)->asthma\n",
      "Path43: triamcinolone-(biolink:member_of)->uuid:1 ^ triamcinolone-(biolink:treats)->asthma\n",
      "Path44: Umeclidinium Bromide-(biolink:member_of)->uuid:1 ^ Umeclidinium Bromide-(biolink:treats)->asthma\n",
      "Path45: Tiotropium bromide-(biolink:member_of)->uuid:1 ^ Tiotropium bromide-(biolink:treats)->asthma\n",
      "Path46: Aminophylline-(biolink:member_of)->uuid:1 ^ Aminophylline-(biolink:treats)->asthma\n",
      "Path47: OMALIZUMAB-(biolink:member_of)->uuid:1 ^ OMALIZUMAB-(biolink:treats)->asthma\n",
      "Path48: DUPILUMAB-(biolink:member_of)->uuid:1 ^ DUPILUMAB-(biolink:treats)->asthma\n",
      "Path49: MEPOLIZUMAB-(biolink:member_of)->uuid:1 ^ MEPOLIZUMAB-(biolink:treats)->asthma\n"
     ]
    }
   ],
   "execution_count": 138
  },
  {
   "metadata": {
    "ExecuteTime": {
     "end_time": "2024-07-11T14:54:09.791847Z",
     "start_time": "2024-07-11T14:54:09.786948Z"
    }
   },
   "cell_type": "code",
   "source": "",
   "id": "9af9d6e4eab9ef5d",
   "outputs": [],
   "execution_count": 138
  },
  {
   "metadata": {
    "ExecuteTime": {
     "end_time": "2024-07-11T14:54:10.850916Z",
     "start_time": "2024-07-11T14:54:10.849501Z"
    }
   },
   "cell_type": "code",
   "source": "",
   "id": "40fc1cb92672d468",
   "outputs": [],
   "execution_count": 138
  },
  {
   "metadata": {
    "ExecuteTime": {
     "end_time": "2024-07-11T14:54:11.121156Z",
     "start_time": "2024-07-11T14:54:11.119150Z"
    }
   },
   "cell_type": "code",
   "source": "",
   "id": "ea4bd197e187ed55",
   "outputs": [],
   "execution_count": 138
  },
  {
   "metadata": {
    "ExecuteTime": {
     "end_time": "2024-07-11T14:54:11.322113Z",
     "start_time": "2024-07-11T14:54:11.320196Z"
    }
   },
   "cell_type": "code",
   "source": [
    "# PROPERTY ENRICHED SG\n",
    "p_support_graph = support_graphs[-1] # Property Inferred"
   ],
   "id": "daabd38419ed66f4",
   "outputs": [],
   "execution_count": 139
  },
  {
   "metadata": {
    "ExecuteTime": {
     "end_time": "2024-07-11T14:54:12.632649Z",
     "start_time": "2024-07-11T14:54:12.629702Z"
    }
   },
   "cell_type": "code",
   "source": [
    "# Tracing the support graph to the auxiliary components\n",
    "aux_graph_edges = aux_graphs.get(p_support_graph).get(\"edges\")\n",
    "print(f'{inferred_edge}---> {\" ^ \".join(aux_graph_edges)}')\n",
    "\n",
    "# # The aux_graph has 3 edges\n",
    "# 1. Inferred_node to the enrichment\n",
    "# 2. Enrichment to the Groupset enriched\n",
    "# 3. the Groupset enriched to the qg Curie"
   ],
   "id": "34772562f372c290",
   "outputs": [
    {
     "name": "stdout",
     "output_type": "stream",
     "text": [
      "CHEBI:16480_Inferred_to_biolink:treats_MONDO:0004979---> e_CHEBI_ROLE_bronchodilator_agent_biolink:similar_to_uuid:1 ^ uuid:1_biolink:treats_MONDO:0004979 ^ CHEBI:16480_biolink:has_chemical_role_CHEBI_ROLE_bronchodilator_agent\n"
     ]
    }
   ],
   "execution_count": 140
  },
  {
   "metadata": {
    "ExecuteTime": {
     "end_time": "2024-07-11T14:54:27.004418Z",
     "start_time": "2024-07-11T14:54:27.001760Z"
    }
   },
   "cell_type": "code",
   "source": [
    "inf2enrichment_aux_graph_edge = ''\n",
    "enrich2group_aux_graph_edge = ''\n",
    "group2curie_aux_graph_edge = ''\n",
    "for aedge in aux_graph_edges:\n",
    "    support = [attributes[\"value\"] for attributes in kg_edges[aedge][\"attributes\"]]\n",
    "    if support:\n",
    "        if isinstance(support[0], list):\n",
    "            enrich2group_aux_graph_edge = aedge\n",
    "        else:\n",
    "            group2curie_aux_graph_edge = aedge\n",
    "    else:\n",
    "        inf2enrichment_aux_graph_edge = aedge"
   ],
   "id": "48eb668884809c8d",
   "outputs": [],
   "execution_count": 141
  },
  {
   "metadata": {},
   "cell_type": "markdown",
   "source": "##### Let's dig further down the path",
   "id": "8a6c293ff1e39c8b"
  },
  {
   "metadata": {
    "ExecuteTime": {
     "end_time": "2024-07-11T14:54:28.215445Z",
     "start_time": "2024-07-11T14:54:28.212798Z"
    }
   },
   "cell_type": "code",
   "source": "kg_edges[inf2enrichment_aux_graph_edge]\n",
   "id": "c68a820a0d30835c",
   "outputs": [
    {
     "data": {
      "text/plain": [
       "{'subject': 'CHEBI:16480',\n",
       " 'object': 'CHEBI_ROLE_bronchodilator_agent',\n",
       " 'predicate': 'biolink:has_chemical_role',\n",
       " 'sources': [{'resource_id': 'infores:answercoalesce',\n",
       "   'resource_role': 'primary_knowledge_source'}],\n",
       " 'attributes': []}"
      ]
     },
     "execution_count": 142,
     "metadata": {},
     "output_type": "execute_result"
    }
   ],
   "execution_count": 142
  },
  {
   "metadata": {
    "ExecuteTime": {
     "end_time": "2024-07-11T14:54:30.666820Z",
     "start_time": "2024-07-11T14:54:30.664150Z"
    }
   },
   "cell_type": "code",
   "source": [
    "# The first edge: \n",
    "inf2enrichmentedges=kg_edges[inf2enrichment_aux_graph_edge]\n",
    "\n",
    "print(f\"{kg_nodes[inf2enrichmentedges['subject']]['name']} -({inf2enrichmentedges['predicate']})-> {kg_nodes[inf2enrichmentedges['object']]['name']}\")\n",
    "print()\n",
    "print(inf2enrichmentedges)\n",
    "# implies:  inferred_node -(rel)- enrichment. It has no support graph so we stop digging"
   ],
   "id": "7e3c996421323e1f",
   "outputs": [
    {
     "name": "stdout",
     "output_type": "stream",
     "text": [
      "nitric oxide -(biolink:has_chemical_role)-> CHEBI_ROLE_bronchodilator_agent\n",
      "\n",
      "{'subject': 'CHEBI:16480', 'object': 'CHEBI_ROLE_bronchodilator_agent', 'predicate': 'biolink:has_chemical_role', 'sources': [{'resource_id': 'infores:answercoalesce', 'resource_role': 'primary_knowledge_source'}], 'attributes': []}\n"
     ]
    }
   ],
   "execution_count": 143
  },
  {
   "metadata": {
    "ExecuteTime": {
     "end_time": "2024-07-11T14:54:31.536698Z",
     "start_time": "2024-07-11T14:54:31.533195Z"
    }
   },
   "cell_type": "code",
   "source": [
    "# The second edge: \n",
    "enrichment2group_edge = kg_edges[enrich2group_aux_graph_edge]\n",
    "enrichment2group_edge\n",
    "# This is the enrichment - (rel) - lookup_set "
   ],
   "id": "851b038d732c1e1c",
   "outputs": [
    {
     "data": {
      "text/plain": [
       "{'subject': 'CHEBI_ROLE_bronchodilator_agent',\n",
       " 'object': 'uuid:1',\n",
       " 'predicate': 'biolink:similar_to',\n",
       " 'sources': [{'resource_id': 'infores:answercoalesce',\n",
       "   'resource_role': 'primary_knowledge_source'}],\n",
       " 'qualifiers': [],\n",
       " 'attributes': [{'attribute_type_id': 'biolink:support_graphs',\n",
       "   'value': ['SG:_n_CHEBI:4728_biolink:has_chemical_role_CHEBI_ROLE_bronchodilator_agent',\n",
       "    'SG:_n_PUBCHEM.COMPOUND:5487426_biolink:has_chemical_role_CHEBI_ROLE_bronchodilator_agent',\n",
       "    'SG:_n_CHEBI:64317_biolink:has_chemical_role_CHEBI_ROLE_bronchodilator_agent',\n",
       "    'SG:_n_CHEBI:28177_biolink:has_chemical_role_CHEBI_ROLE_bronchodilator_agent',\n",
       "    'SG:_n_CHEBI:3207_biolink:has_chemical_role_CHEBI_ROLE_bronchodilator_agent',\n",
       "    'SG:_n_CHEBI:6792_biolink:has_chemical_role_CHEBI_ROLE_bronchodilator_agent',\n",
       "    'SG:_n_CHEBI:408174_biolink:has_chemical_role_CHEBI_ROLE_bronchodilator_agent',\n",
       "    'SG:_n_CHEBI:9449_biolink:has_chemical_role_CHEBI_ROLE_bronchodilator_agent',\n",
       "    'SG:_n_PUBCHEM.COMPOUND:9433_biolink:has_chemical_role_CHEBI_ROLE_bronchodilator_agent',\n",
       "    'SG:_n_CHEBI:75037_biolink:has_chemical_role_CHEBI_ROLE_bronchodilator_agent',\n",
       "    'SG:_n_CHEBI:64064_biolink:has_chemical_role_CHEBI_ROLE_bronchodilator_agent',\n",
       "    'SG:_n_CHEBI:5147_biolink:has_chemical_role_CHEBI_ROLE_bronchodilator_agent',\n",
       "    'SG:_n_CHEBI:51209_biolink:has_chemical_role_CHEBI_ROLE_bronchodilator_agent',\n",
       "    'SG:_n_CHEBI:2549_biolink:has_chemical_role_CHEBI_ROLE_bronchodilator_agent',\n",
       "    'SG:_n_CHEBI:28918_biolink:has_chemical_role_CHEBI_ROLE_bronchodilator_agent',\n",
       "    'SG:_n_CHEBI:68575_biolink:has_chemical_role_CHEBI_ROLE_bronchodilator_agent'],\n",
       "   'attribute_source': 'infores:answercoalesce'}]}"
      ]
     },
     "execution_count": 144,
     "metadata": {},
     "output_type": "execute_result"
    }
   ],
   "execution_count": 144
  },
  {
   "metadata": {
    "ExecuteTime": {
     "end_time": "2024-07-11T14:54:33.165400Z",
     "start_time": "2024-07-11T14:54:33.161238Z"
    }
   },
   "cell_type": "code",
   "source": [
    "# The enrichment - groupset has many support graph, so we dig further\n",
    "print(f\"{enrich2group_aux_graph_edge}:===>\")\n",
    "for attributes in enrichment2group_edge[\"attributes\"]:\n",
    "    enrichment2group_support_graphs = attributes[\"value\"]\n",
    "    \n",
    "    # Each of these exists in the auxiliary graph\n",
    "    for i, e2group_sp in enumerate(enrichment2group_support_graphs):\n",
    "        e2group_edges = aux_graphs[e2group_sp][\"edges\"]\n",
    "        theedges0 = kg_edges[e2group_edges[0]]\n",
    "        theedges1 = kg_edges[e2group_edges[1]]\n",
    "        print(f'Path{i+1}: {kg_nodes[theedges0[\"subject\"]][\"name\"]}--({theedges0[\"predicate\"]})-->{kg_nodes[theedges0[\"object\"]][\"name\"]} ^ {kg_nodes[theedges1[\"subject\"]][\"name\"]}--({theedges1[\"predicate\"]})-->{kg_nodes[theedges1[\"object\"]][\"name\"]}')\n",
    "\n",
    "# 4 members of set uuid affects `NCBIGene:83817`         "
   ],
   "id": "b0ee482244532730",
   "outputs": [
    {
     "name": "stdout",
     "output_type": "stream",
     "text": [
      "e_CHEBI_ROLE_bronchodilator_agent_biolink:similar_to_uuid:1:===>\n",
      "Path1: dyphylline--(biolink:has_chemical_role)-->CHEBI_ROLE_bronchodilator_agent ^ dyphylline--(biolink:member_of)-->uuid:1\n",
      "Path2: Tiotropium bromide--(biolink:has_chemical_role)-->CHEBI_ROLE_bronchodilator_agent ^ Tiotropium bromide--(biolink:member_of)-->uuid:1\n",
      "Path3: isoprenaline--(biolink:member_of)-->uuid:1 ^ isoprenaline--(biolink:has_chemical_role)-->CHEBI_ROLE_bronchodilator_agent\n",
      "Path4: theophylline--(biolink:has_chemical_role)-->CHEBI_ROLE_bronchodilator_agent ^ theophylline--(biolink:member_of)-->uuid:1\n",
      "Path5: budesonide--(biolink:has_chemical_role)-->CHEBI_ROLE_bronchodilator_agent ^ budesonide--(biolink:member_of)-->uuid:1\n",
      "Path6: metaproterenol--(biolink:has_chemical_role)-->CHEBI_ROLE_bronchodilator_agent ^ metaproterenol--(biolink:member_of)-->uuid:1\n",
      "Path7: arformoterol--(biolink:member_of)-->uuid:1 ^ arformoterol--(biolink:has_chemical_role)-->CHEBI_ROLE_bronchodilator_agent\n",
      "Path8: terbutaline--(biolink:has_chemical_role)-->CHEBI_ROLE_bronchodilator_agent ^ terbutaline--(biolink:member_of)-->uuid:1\n",
      "Path9: Aminophylline--(biolink:member_of)-->uuid:1 ^ Aminophylline--(biolink:has_chemical_role)-->CHEBI_ROLE_bronchodilator_agent\n",
      "Path10: vilanterol--(biolink:member_of)-->uuid:1 ^ vilanterol--(biolink:has_chemical_role)-->CHEBI_ROLE_bronchodilator_agent\n",
      "Path11: 2-(hydroxymethyl)-4-(1-hydroxy-2-{[6-(4-phenylbutoxy)hexyl]amino}ethyl)phenol--(biolink:member_of)-->uuid:1 ^ 2-(hydroxymethyl)-4-(1-hydroxy-2-{[6-(4-phenylbutoxy)hexyl]amino}ethyl)phenol--(biolink:has_chemical_role)-->CHEBI_ROLE_bronchodilator_agent\n",
      "Path12: formoterol--(biolink:member_of)-->uuid:1 ^ formoterol--(biolink:has_chemical_role)-->CHEBI_ROLE_bronchodilator_agent\n",
      "Path13: pseudoephedrine--(biolink:has_chemical_role)-->CHEBI_ROLE_bronchodilator_agent ^ pseudoephedrine--(biolink:member_of)-->uuid:1\n",
      "Path14: albuterol--(biolink:member_of)-->uuid:1 ^ albuterol--(biolink:has_chemical_role)-->CHEBI_ROLE_bronchodilator_agent\n",
      "Path15: (R)-adrenaline--(biolink:has_chemical_role)-->CHEBI_ROLE_bronchodilator_agent ^ (R)-adrenaline--(biolink:member_of)-->uuid:1\n",
      "Path16: indacaterol--(biolink:member_of)-->uuid:1 ^ indacaterol--(biolink:has_chemical_role)-->CHEBI_ROLE_bronchodilator_agent\n"
     ]
    }
   ],
   "execution_count": 145
  },
  {
   "metadata": {
    "ExecuteTime": {
     "end_time": "2024-07-11T14:54:35.088297Z",
     "start_time": "2024-07-11T14:54:35.084891Z"
    }
   },
   "cell_type": "code",
   "source": [
    "# The third edge: \n",
    "kg_edges[group2curie_aux_graph_edge]\n",
    "# implies:  the Groupset- qg Curie edge. It has support graph of members of the group, so we stop digging"
   ],
   "id": "f5d70821656a2827",
   "outputs": [
    {
     "data": {
      "text/plain": [
       "{'subject': 'uuid:1',\n",
       " 'object': 'MONDO:0004979',\n",
       " 'predicate': 'biolink:treats',\n",
       " 'sources': [{'resource_id': 'infores:answercoalesce',\n",
       "   'resource_role': 'primary_knowledge_source'}],\n",
       " 'attributes': [{'attribute_type_id': 'biolink:support_graphs',\n",
       "   'value': 'SG:_uuid:1_biolink:treats_MONDO:0004979',\n",
       "   'attribute_source': 'infores:answercoalesce'}]}"
      ]
     },
     "execution_count": 146,
     "metadata": {},
     "output_type": "execute_result"
    }
   ],
   "execution_count": 146
  },
  {
   "metadata": {
    "ExecuteTime": {
     "end_time": "2024-07-11T14:54:36.388958Z",
     "start_time": "2024-07-11T14:54:36.383332Z"
    }
   },
   "cell_type": "code",
   "source": [
    "# CURIE-PHYSIO\n",
    "print(f\"{group2curie_aux_graph_edge}:===>\")\n",
    "for attributes in kg_edges[group2curie_aux_graph_edge][\"attributes\"]:\n",
    "    sgs = attributes['value']\n",
    "    sgedges = sorted(aux_graphs[sgs][\"edges\"])\n",
    "    j = 0; path = 1\n",
    "    while j < len(sgedges)-1:\n",
    "        p1 = kg_edges[sgedges[j]]\n",
    "        p2 = kg_edges[sgedges[j+1]]\n",
    "        print(f'Path{path}: {kg_nodes[p2[\"subject\"]][\"name\"]}-({p2[\"predicate\"]})->{kg_nodes[p2[\"object\"]][\"name\"]} ^ {kg_nodes[p1[\"subject\"]][\"name\"]}-({p1[\"predicate\"]})->{kg_nodes[p1[\"object\"]][\"name\"]}')\n",
    "        j+=2\n",
    "        path+=1"
   ],
   "id": "cf355a5099c823d6",
   "outputs": [
    {
     "name": "stdout",
     "output_type": "stream",
     "text": [
      "uuid:1_biolink:treats_MONDO:0004979:===>\n",
      "Path1: zafirlukast-(biolink:member_of)->uuid:1 ^ zafirlukast-(biolink:treats)->asthma\n",
      "Path2: zileuton-(biolink:member_of)->uuid:1 ^ zileuton-(biolink:treats)->asthma\n",
      "Path3: pemirolast-(biolink:member_of)->uuid:1 ^ pemirolast-(biolink:treats)->asthma\n",
      "Path4: (-)-ephedrine-(biolink:member_of)->uuid:1 ^ (-)-ephedrine-(biolink:treats)->asthma\n",
      "Path5: (R)-noradrenaline-(biolink:member_of)->uuid:1 ^ (R)-noradrenaline-(biolink:treats)->asthma\n",
      "Path6: desonide-(biolink:member_of)->uuid:1 ^ desonide-(biolink:treats)->asthma\n",
      "Path7: albuterol-(biolink:member_of)->uuid:1 ^ albuterol-(biolink:treats)->asthma\n",
      "Path8: theophylline-(biolink:member_of)->uuid:1 ^ theophylline-(biolink:treats)->asthma\n",
      "Path9: (R)-adrenaline-(biolink:member_of)->uuid:1 ^ (R)-adrenaline-(biolink:treats)->asthma\n",
      "Path10: beclomethasone-(biolink:member_of)->uuid:1 ^ beclomethasone-(biolink:treats)->asthma\n",
      "Path11: betamethasone-(biolink:member_of)->uuid:1 ^ betamethasone-(biolink:treats)->asthma\n",
      "Path12: Ciclesonide-(biolink:member_of)->uuid:1 ^ Ciclesonide-(biolink:treats)->asthma\n",
      "Path13: budesonide-(biolink:member_of)->uuid:1 ^ budesonide-(biolink:treats)->asthma\n",
      "Path14: Cortisone acetate-(biolink:member_of)->uuid:1 ^ Cortisone acetate-(biolink:treats)->asthma\n",
      "Path15: arformoterol-(biolink:member_of)->uuid:1 ^ arformoterol-(biolink:treats)->asthma\n",
      "Path16: Dexamethasone acetate-(biolink:member_of)->uuid:1 ^ Dexamethasone acetate-(biolink:treats)->asthma\n",
      "Path17: troleandomycin-(biolink:member_of)->uuid:1 ^ troleandomycin-(biolink:treats)->asthma\n",
      "Path18: dyphylline-(biolink:member_of)->uuid:1 ^ dyphylline-(biolink:treats)->asthma\n",
      "Path19: montelukast-(biolink:member_of)->uuid:1 ^ montelukast-(biolink:treats)->asthma\n",
      "Path20: flunisolide-(biolink:member_of)->uuid:1 ^ flunisolide-(biolink:treats)->asthma\n",
      "Path21: pseudoephedrine-(biolink:member_of)->uuid:1 ^ pseudoephedrine-(biolink:treats)->asthma\n",
      "Path22: fluticasone-(biolink:member_of)->uuid:1 ^ fluticasone-(biolink:treats)->asthma\n",
      "Path23: formoterol-(biolink:member_of)->uuid:1 ^ formoterol-(biolink:treats)->asthma\n",
      "Path24: Guaifenesin-(biolink:member_of)->uuid:1 ^ Guaifenesin-(biolink:treats)->asthma\n",
      "Path25: Hydrocortisone cypionate-(biolink:member_of)->uuid:1 ^ Hydrocortisone cypionate-(biolink:treats)->asthma\n",
      "Path26: cromoglycic acid-(biolink:member_of)->uuid:1 ^ cromoglycic acid-(biolink:treats)->asthma\n",
      "Path27: Isoetharine-(biolink:member_of)->uuid:1 ^ Isoetharine-(biolink:treats)->asthma\n",
      "Path28: 2-(hydroxymethyl)-4-(1-hydroxy-2-{[6-(4-phenylbutoxy)hexyl]amino}ethyl)phenol-(biolink:member_of)->uuid:1 ^ 2-(hydroxymethyl)-4-(1-hydroxy-2-{[6-(4-phenylbutoxy)hexyl]amino}ethyl)phenol-(biolink:treats)->asthma\n",
      "Path29: isoprenaline-(biolink:member_of)->uuid:1 ^ isoprenaline-(biolink:treats)->asthma\n",
      "Path30: loratadine-(biolink:member_of)->uuid:1 ^ loratadine-(biolink:treats)->asthma\n",
      "Path31: metaproterenol-(biolink:member_of)->uuid:1 ^ metaproterenol-(biolink:treats)->asthma\n",
      "Path32: indacaterol-(biolink:member_of)->uuid:1 ^ indacaterol-(biolink:treats)->asthma\n",
      "Path33: 6alpha-methylprednisolone-(biolink:member_of)->uuid:1 ^ 6alpha-methylprednisolone-(biolink:treats)->asthma\n",
      "Path34: mometasone-(biolink:member_of)->uuid:1 ^ mometasone-(biolink:treats)->asthma\n",
      "Path35: nedocromil-(biolink:member_of)->uuid:1 ^ nedocromil-(biolink:treats)->asthma\n",
      "Path36: vilanterol-(biolink:member_of)->uuid:1 ^ vilanterol-(biolink:treats)->asthma\n",
      "Path37: Pirbuterol-(biolink:member_of)->uuid:1 ^ Pirbuterol-(biolink:treats)->asthma\n",
      "Path38: prednisolone-(biolink:member_of)->uuid:1 ^ prednisolone-(biolink:treats)->asthma\n",
      "Path39: prednisone-(biolink:member_of)->uuid:1 ^ prednisone-(biolink:treats)->asthma\n",
      "Path40: 3-hydroxy-2-phenylpropanoic acid (8-methyl-8-propan-2-yl-8-azoniabicyclo[3.2.1]octan-3-yl) ester-(biolink:member_of)->uuid:1 ^ 3-hydroxy-2-phenylpropanoic acid (8-methyl-8-propan-2-yl-8-azoniabicyclo[3.2.1]octan-3-yl) ester-(biolink:treats)->asthma\n",
      "Path41: ketotifen-(biolink:member_of)->uuid:1 ^ ketotifen-(biolink:treats)->asthma\n",
      "Path42: terbutaline-(biolink:member_of)->uuid:1 ^ terbutaline-(biolink:treats)->asthma\n",
      "Path43: triamcinolone-(biolink:member_of)->uuid:1 ^ triamcinolone-(biolink:treats)->asthma\n",
      "Path44: Umeclidinium Bromide-(biolink:member_of)->uuid:1 ^ Umeclidinium Bromide-(biolink:treats)->asthma\n",
      "Path45: Tiotropium bromide-(biolink:member_of)->uuid:1 ^ Tiotropium bromide-(biolink:treats)->asthma\n",
      "Path46: Aminophylline-(biolink:member_of)->uuid:1 ^ Aminophylline-(biolink:treats)->asthma\n",
      "Path47: OMALIZUMAB-(biolink:member_of)->uuid:1 ^ OMALIZUMAB-(biolink:treats)->asthma\n",
      "Path48: DUPILUMAB-(biolink:member_of)->uuid:1 ^ DUPILUMAB-(biolink:treats)->asthma\n",
      "Path49: MEPOLIZUMAB-(biolink:member_of)->uuid:1 ^ MEPOLIZUMAB-(biolink:treats)->asthma\n"
     ]
    }
   ],
   "execution_count": 147
  }
 ],
 "metadata": {
  "kernelspec": {
   "display_name": "Python 3 (ipykernel)",
   "language": "python",
   "name": "python3"
  },
  "language_info": {
   "codemirror_mode": {
    "name": "ipython",
    "version": 3
   },
   "file_extension": ".py",
   "mimetype": "text/x-python",
   "name": "python",
   "nbconvert_exporter": "python",
   "pygments_lexer": "ipython3",
   "version": "3.12.2"
  }
 },
 "nbformat": 4,
 "nbformat_minor": 5
}
