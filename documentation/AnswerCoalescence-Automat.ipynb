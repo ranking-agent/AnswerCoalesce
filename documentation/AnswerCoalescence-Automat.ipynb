{
 "cells": [
  {
   "cell_type": "markdown",
   "metadata": {},
   "source": [
    "# Answer Coalescence using only Automat\n",
    "\n",
    "Strider finds and ranks all paths that fulfill the query.  Some of these answers can be very similar.  For instance, two answers may differ only by a gene node, but perhaps those genes are from the same family.  This permits a higher-level, more parsimonious description of an answer set."
   ]
  },
  {
   "cell_type": "code",
   "execution_count": 1,
   "metadata": {},
   "outputs": [],
   "source": [
    "import requests\n",
    "import json\n"
   ]
  },
  {
   "cell_type": "code",
   "execution_count": 2,
   "metadata": {},
   "outputs": [],
   "source": [
    "from datetime import datetime as dt\n",
    "def query_automat(question,plate):\n",
    "    url = f'https://aragorn.renci.org/{plate}/query'\n",
    "    t0 = dt.now()\n",
    "    r = requests.post(url,json=question)\n",
    "    t1= dt.now()\n",
    "    print(f'It took {t1-t0} s to return')\n",
    "    if r.status_code == 200:\n",
    "        rj = r.json()\n",
    "        #Coming from the KP we don't have a score, but AC expects it, so we're going to dummy it.\n",
    "        # for result in rj['results']:\n",
    "        #     result['score'] = 1\n",
    "        return rj\n",
    "    else:\n",
    "       print(r.status_code)\n",
    "       return None"
   ]
  },
  {
   "cell_type": "code",
   "execution_count": 125,
   "metadata": {},
   "outputs": [],
   "source": [
    "def create_question(disease_curie, relation, answer_type, knowledge_type):\n",
    "    question = {\"nodes\": { \"n1\": { \"categories\": [answer_type],\"is_set\": False, \"constraints\": []},\n",
    "                \"n0\": {\"ids\": [disease_curie ],\"is_set\": False, \"constraints\": []}},\n",
    "            \"edges\": { \"e00\": { \"subject\": \"n1\", \"object\": \"n0\",\"predicates\": [relation], \"attribute_constraints\": [], \"qualifier_constraints\": []}}}\n",
    "    if knowledge_type:\n",
    "        question['edges']['e00'].update({\"knowledge_type\": knowledge_type})\n",
    "    return {\"message\": {\"query_graph\":question}}\n"
   ]
  },
  {
   "cell_type": "code",
   "execution_count": 4,
   "metadata": {},
   "outputs": [],
   "source": [
    "def getlabel(curie):\n",
    "    url = 'https://nodenormalization-sri.renci.org/get_normalized_nodes'\n",
    "    r = requests.get(url,params={'curie':curie}).json()\n",
    "    try:\n",
    "        return r[curie]['id']['label']\n",
    "    except:\n",
    "        return ''"
   ]
  },
  {
   "cell_type": "markdown",
   "metadata": {},
   "source": [
    "## Property Coalescence\n",
    "\n",
    "Find drugs that treat diabetes in mychem."
   ]
  },
  {
   "cell_type": "code",
   "execution_count": 127,
   "metadata": {},
   "outputs": [
    {
     "name": "stdout",
     "output_type": "stream",
     "text": [
      "It took 0:00:00.967604 s to return\n"
     ]
    }
   ],
   "source": [
    "disease = \"MONDO:0004975\"  #Alzheimer\n",
    "# disease = 'MONDO:0005180'  #Parkinson\n",
    "# disease = 'MONDO:0004979'  #Asthma\n",
    "# disease = \"MONDO:0005148\"   #T2D\n",
    "knowledgetype= \"inferred\"\n",
    "edge = \"biolink:treats\"\n",
    "answer_type = \"biolink:ChemicalEntity\"\n",
    "question = create_question(disease, edge, answer_type, knowledgetype)\n",
    "res = query_automat(question,'robokop')"
   ]
  },
  {
   "cell_type": "code",
   "execution_count": 32,
   "metadata": {},
   "outputs": [
    {
     "name": "stdout",
     "output_type": "stream",
     "text": [
      "200\n"
     ]
    }
   ],
   "source": [
    "url = \"https://answercoalesce.renci.org/1.4/coalesce/property\"\n",
    "r = requests.post(url,json=res)\n",
    "print(r.status_code)"
   ]
  },
  {
   "cell_type": "code",
   "execution_count": 59,
   "metadata": {},
   "outputs": [],
   "source": [
    "r = r.json()\n",
    "def get_enriched_results(res):\n",
    "    return list(filter(lambda message: message['enrichments'], res))\n",
    "r['message']['results'] = get_enriched_results(r['message']['results'])"
   ]
  },
  {
   "cell_type": "code",
   "execution_count": 60,
   "metadata": {},
   "outputs": [
    {
     "data": {
      "text/plain": [
       "dict_keys(['query_graph', 'knowledge_graph', 'results', 'auxiliary_graphs'])"
      ]
     },
     "execution_count": 60,
     "metadata": {},
     "output_type": "execute_result"
    }
   ],
   "source": [
    "r['message'].keys()"
   ]
  },
  {
   "cell_type": "code",
   "execution_count": 62,
   "metadata": {},
   "outputs": [],
   "source": [
    "results = r['message']['results']"
   ]
  },
  {
   "cell_type": "code",
   "execution_count": 63,
   "metadata": {},
   "outputs": [
    {
     "name": "stdout",
     "output_type": "stream",
     "text": [
      "{'node_bindings': {'chemical': [{'id': 'PUBCHEM.COMPOUND:6013'}], 'disease': [{'id': 'MONDO:0004975', 'qnode_id': 'MONDO:0004975'}, {'id': 'MONDO:0100087'}, {'id': 'MONDO:0012344'}]}, 'analyses': [{'resource_id': 'infores:robokop', 'edge_bindings': {'e00': [{'id': '45351889'}]}, 'score': 0.9810554009250266}], 'enrichments': ['_n_ac_58_0', '_n_ac_59_0', '_n_ac_60_0', '_n_ac_61_0', '_n_ac_62_0', '_n_ac_63_0', '_n_ac_64_0', '_n_ac_65_0', '_n_ac_66_0']}\n"
     ]
    }
   ],
   "source": [
    "print(results[0])"
   ]
  },
  {
   "cell_type": "code",
   "execution_count": 76,
   "metadata": {},
   "outputs": [
    {
     "data": {
      "text/plain": [
       "{'edges': [],\n",
       " 'attributes': [{'attribute_type_id': 'biolink:supporting_study_method_type',\n",
       "   'value': 'property_enrichment'},\n",
       "  {'attribute_type_id': 'biolink:p_value', 'value': 2.1191190572104969e-07},\n",
       "  {'attribute_type_id': 'biolink:chemical_role',\n",
       "   'value': 'CHEBI_ROLE_mouse_metabolite'}]}"
      ]
     },
     "execution_count": 76,
     "metadata": {},
     "output_type": "execute_result"
    }
   ],
   "source": [
    "r['message']['auxiliary_graphs']['_n_ac_58_0']"
   ]
  },
  {
   "cell_type": "code",
   "execution_count": 75,
   "metadata": {},
   "outputs": [
    {
     "data": {
      "text/plain": [
       "['property_enrichment', 2.1191190572104969e-07, 'CHEBI_ROLE_mouse_metabolite']"
      ]
     },
     "execution_count": 75,
     "metadata": {},
     "output_type": "execute_result"
    }
   ],
   "source": [
    "attributes = r['message']['auxiliary_graphs']['_n_ac_58_0']['attributes']\n",
    "pvalue = [attr['value'] for attr in attributes if attr.get('value')]\n",
    "pvalue"
   ]
  },
  {
   "cell_type": "code",
   "execution_count": 71,
   "metadata": {},
   "outputs": [],
   "source": [
    "def get_enrichments2results(r):\n",
    "    results = r[\"message\"][\"results\"]\n",
    "    result_to_enrichments = {}\n",
    "    enrichments_to_results = {}\n",
    "    for result in results:\n",
    "        keys = [key for key in result['node_bindings'] if not 'qnode_id' in result['node_bindings'][key][0]]\n",
    "        k = keys[0]\n",
    "        identifier = result[\"node_bindings\"][k][0][\"id\"]\n",
    "        name = r[\"message\"][\"knowledge_graph\"][\"nodes\"][identifier][\"name\"]\n",
    "        name = identifier\n",
    "        result_to_enrichments[name] = result[\"enrichments\"]\n",
    "    for result, enrichments in result_to_enrichments.items():\n",
    "        for enrichment in enrichments:\n",
    "            if enrichment not in enrichments_to_results:\n",
    "                enrichments_to_results[enrichment] = []\n",
    "            enrichments_to_results[enrichment].append(result)\n",
    "    return enrichments_to_results\n",
    "enrichments_to_results  = (get_enrichments2results(r))"
   ]
  },
  {
   "cell_type": "code",
   "execution_count": 72,
   "metadata": {},
   "outputs": [
    {
     "name": "stdout",
     "output_type": "stream",
     "text": [
      "{'chemical': [{'id': 'PUBCHEM.COMPOUND:6013'}], 'disease': [{'id': 'MONDO:0004975', 'qnode_id': 'MONDO:0004975'}, {'id': 'MONDO:0100087'}, {'id': 'MONDO:0012344'}]}\n"
     ]
    }
   ],
   "source": [
    "print(results[0]['node_bindings'])"
   ]
  },
  {
   "cell_type": "code",
   "execution_count": 73,
   "metadata": {},
   "outputs": [
    {
     "name": "stdout",
     "output_type": "stream",
     "text": [
      "[{'resource_id': 'infores:robokop', 'edge_bindings': {'e00': [{'id': '45351889'}]}, 'score': 0.9810554009250266}]\n"
     ]
    }
   ],
   "source": [
    "print(results[0]['analyses'])"
   ]
  },
  {
   "cell_type": "code",
   "execution_count": 78,
   "metadata": {},
   "outputs": [
    {
     "name": "stdout",
     "output_type": "stream",
     "text": [
      "7 2.1191190572104969e-07 CHEBI_ROLE_mouse_metabolite _n_ac_58_0\n",
      "7 1.0552299223963925e-05 CHEBI_ROLE_human_metabolite _n_ac_59_0\n",
      "3 1.2465570099451747e-06 CHEBI_ROLE_Daphnia_magna_metabolite _n_ac_60_0\n",
      "3 1.0370528168003705e-05 CHEBI_ROLE_Daphnia_metabolite _n_ac_61_0\n",
      "3 1.0893659043628082e-05 CHEBI_ROLE_crustacean_metabolite _n_ac_62_0\n",
      "4 2.8309571319172373e-06 CHEBI_ROLE_sex_hormone _n_ac_63_0\n",
      "4 8.813850115159998e-06 CHEBI_ROLE_hormone _n_ac_64_0\n",
      "4 3.5546661879763916e-05 CHEBI_ROLE_molecular_messenger _n_ac_65_0\n",
      "4 6.74952828273942e-05 CHEBI_ROLE_agonist _n_ac_66_0\n",
      "216 9.75950843422541e-47 CHEBI_ROLE_drug _n_ac_1_0\n",
      "217 2.9818672983070737e-46 CHEBI_ROLE_pharmaceutical _n_ac_2_0\n",
      "55 3.703713408107945e-19 CHEBI_ROLE_neurotransmitter_agent _n_ac_7_0\n",
      "88 1.6888778926994379e-18 CHEBI_ROLE_pharmacological_role _n_ac_8_0\n",
      "27 8.681185863824432e-09 CHEBI_ROLE_cardiovascular_drug _n_ac_21_0\n",
      "18 7.698873837175989e-08 CHEBI_ROLE_adrenergic_agent _n_ac_28_0\n",
      "9 5.524821995947849e-06 CHEBI_ROLE_alpha_adrenergic_drug _n_ac_44_0\n",
      "5 3.346375292823697e-05 CHEBI_ROLE_neurotransmitter _n_ac_50_0\n",
      "15 7.830875089178391e-14 CHEBI_ROLE_nutrient _n_ac_11_0\n",
      "26 3.0741790437833586e-10 CHEBI_ROLE_food_component _n_ac_13_0\n",
      "26 3.0741790437833586e-10 CHEBI_ROLE_physiological_role _n_ac_14_0\n",
      "9 5.9566424665931475e-08 CHEBI_ROLE_micronutrient _n_ac_26_0\n",
      "15 5.119188345421633e-08 CHEBI_ROLE_vasodilator_agent _n_ac_25_0\n",
      "16 5.1758067081683e-07 CHEBI_ROLE_antihypertensive_agent _n_ac_33_0\n",
      "8 4.014189213116469e-06 CHEBI_ROLE_calcium_channel_blocker _n_ac_40_0\n",
      "8 7.528973926568253e-05 CHEBI_ROLE_calcium_channel_modulator _n_ac_41_0\n",
      "5 1.4469720139270584e-06 CHEBI_ROLE_mouse_metabolite _n_ac_67_0\n",
      "5 2.5302084640927086e-05 CHEBI_ROLE_human_metabolite _n_ac_68_0\n",
      "90 5.85764889267359e-11 CHEBI_ROLE_inhibitor _n_ac_12_0\n",
      "81 1.2850106411391382e-09 CHEBI_ROLE_enzyme_inhibitor _n_ac_17_0\n",
      "10 1.399791346111759e-07 CHEBI_ROLE_nutraceutical _n_ac_29_0\n",
      "51 4.722988074338633e-25 CHEBI_ROLE_protective_agent _n_ac_3_0\n",
      "25 1.7777356855280157e-14 CHEBI_ROLE_geroprotector _n_ac_10_0\n",
      "39 3.536885902297685e-11 CHEBI_ROLE_drug _n_ac_69_0\n",
      "39 5.76228791685225e-11 CHEBI_ROLE_pharmaceutical _n_ac_70_0\n",
      "11 2.7714522078092365e-08 CHEBI_ROLE_central_nervous_system_drug _n_ac_73_0\n",
      "7 1.4143044680119774e-05 CHEBI_ROLE_central_nervous_system_depressant _n_ac_81_0\n",
      "18 5.509417804548162e-10 CHEBI_ROLE_neuroprotective_agent _n_ac_15_0\n",
      "25 4.5121987031050517e-07 CHEBI_ROLE_antagonist _n_ac_32_0\n",
      "25 8.64154676468216e-07 CHEBI_ROLE_antioxidant _n_ac_34_0\n",
      "26 6.034672906099481e-05 CHEBI_ROLE_EC_1_oxidoreductase_inhibitor _n_ac_53_0\n",
      "47 1.9660876974751778e-24 CHEBI_ROLE_central_nervous_system_drug _n_ac_4_0\n",
      "34 4.856397604466388e-20 CHEBI_ROLE_psychotropic_drug _n_ac_5_0\n",
      "34 3.4249329409565263e-19 CHEBI_ROLE_central_nervous_system_depressant _n_ac_6_0\n",
      "23 3.035410903762504e-16 CHEBI_ROLE_tranquilizing_drug _n_ac_9_0\n",
      "26 6.318414348348859e-10 CHEBI_ROLE_xenobiotic _n_ac_16_0\n",
      "24 8.568146754306376e-09 CHEBI_ROLE_environmental_contaminant _n_ac_20_0\n",
      "10 1.7458751686815956e-06 CHEBI_ROLE_antipsychotic_agent _n_ac_37_0\n",
      "16 1.6336234959272046e-07 CHEBI_ROLE_antirheumatic_drug _n_ac_30_0\n",
      "16 1.5499551496363856e-06 CHEBI_ROLE_analgesic _n_ac_36_0\n",
      "13 8.796008045229664e-05 CHEBI_ROLE_anti_inflammatory_drug _n_ac_56_0\n",
      "38 6.020194173560845e-08 CHEBI_ROLE_EC_3_hydrolase_inhibitor _n_ac_27_0\n",
      "17 6.89664611215068e-05 CHEBI_ROLE_EC_3.1_ester_hydrolase_inhibitor _n_ac_55_0\n",
      "14 4.565679709419352e-09 CHEBI_ROLE_antidepressant _n_ac_19_0\n",
      "13 2.140217845715774e-05 CHEBI_ROLE_cholinergic_drug _n_ac_49_0\n",
      "12 3.712915676881831e-06 CHEBI_ROLE_dopaminergic_agent _n_ac_39_0\n",
      "6 1.903442797621286e-08 CHEBI_ROLE_nutrient _n_ac_72_0\n",
      "10 4.254574804709282e-08 CHEBI_ROLE_food_component _n_ac_74_0\n",
      "10 4.254574804709282e-08 CHEBI_ROLE_physiological_role _n_ac_75_0\n",
      "5 1.7205095008557718e-07 CHEBI_ROLE_micronutrient _n_ac_77_0\n",
      "10 1.5583757299592135e-05 CHEBI_ROLE_Escherichia_coli_metabolite _n_ac_82_0\n",
      "10 8.873735213751504e-07 CHEBI_ROLE_antimetabolite _n_ac_35_0\n",
      "33 2.7363379752127465e-06 CHEBI_ROLE_aetiopathogenetic_role _n_ac_38_0\n",
      "11 7.190273883372402e-06 CHEBI_ROLE_immunomodulator _n_ac_45_0\n",
      "8 5.261196133551215e-06 CHEBI_ROLE_antilipemic_drug _n_ac_42_0\n",
      "5 5.140303166639923e-05 CHEBI_ROLE_anticholesteremic_drug _n_ac_52_0\n",
      "18 2.8427620829300888e-09 CHEBI_ROLE_serotonergic_drug _n_ac_18_0\n",
      "10 4.625556048712759e-08 CHEBI_ROLE_anxiolytic_drug _n_ac_24_0\n",
      "7 9.099805705743356e-06 CHEBI_ROLE_serotonin_uptake_inhibitor _n_ac_46_0\n",
      "10 1.7551380783804128e-05 CHEBI_ROLE_adrenergic_antagonist _n_ac_48_0\n",
      "12 4.4107120282849055e-08 CHEBI_ROLE_drug_allergen _n_ac_23_0\n",
      "6 4.995573139871088e-05 CHEBI_ROLE_EC_3.5.1.98_histone_deacetylase_inhibitor _n_ac_51_0\n",
      "8 6.32018442902603e-05 CHEBI_ROLE_EC_3.5_hydrolases_acting_on_non_peptide_C_N_bonds_inhibitor _n_ac_54_0\n",
      "5 9.124336151623763e-05 CHEBI_ROLE_adrenergic_uptake_inhibitor _n_ac_57_0\n",
      "10 5.268352529577948e-06 CHEBI_ROLE_serotonergic_antagonist _n_ac_43_0\n",
      "8 1.40324771660108e-05 CHEBI_ROLE_dopaminergic_antagonist _n_ac_47_0\n",
      "22 3.99898965237068e-09 CHEBI_ROLE_pharmacological_role _n_ac_71_0\n",
      "7 3.294969529889129e-08 CHEBI_ROLE_EC_2.1_C1_transferase_inhibitor _n_ac_22_0\n",
      "7 5.486814314526607e-05 CHEBI_ROLE_environmental_contaminant _n_ac_87_0\n",
      "7 6.421387211910033e-05 CHEBI_ROLE_xenobiotic _n_ac_88_0\n",
      "8 7.423465673588011e-05 CHEBI_ROLE_protective_agent _n_ac_90_0\n",
      "15 2.8494705029808665e-05 CHEBI_ROLE_mouse_metabolite _n_ac_83_0\n",
      "5 1.0750516549944417e-06 CHEBI_ROLE_nutraceutical _n_ac_78_0\n",
      "2 4.482096146962595e-05 CHEBI_ROLE_antidote_to_paracetamol_poisoning _n_ac_85_0\n",
      "9 5.491266626402046e-08 CHEBI_ROLE_psychotropic_drug _n_ac_76_0\n",
      "6 3.2972402298395704e-07 CHEBI_ROLE_EC_2.1.1_methyltransferases_inhibitor _n_ac_31_0\n",
      "6 4.255834673885662e-05 CHEBI_ROLE_adrenergic_agent _n_ac_84_0\n",
      "10 6.147356946831141e-05 CHEBI_ROLE_neurotransmitter_agent _n_ac_89_0\n",
      "5 4.903566293790114e-05 CHEBI_ROLE_tranquilizing_drug _n_ac_86_0\n",
      "4 1.3718338214119758e-06 CHEBI_ROLE_EC_3.4.21.26_prolyl_oligopeptidase_inhibitor _n_ac_79_0\n",
      "4 8.242849552959341e-05 CHEBI_ROLE_EC_3.4.21_serine_endopeptidase_inhibitor _n_ac_80_0\n"
     ]
    }
   ],
   "source": [
    "auxg = r['message']['auxiliary_graphs']\n",
    "for enrichment, chemnodes in enrichments_to_results.items():\n",
    "    attributes = auxg[enrichment]['attributes']\n",
    "    values = [attr['value'] for attr in attributes if attr.get('value')]\n",
    "    print(len(chemnodes), values[1], values[2], enrichment)"
   ]
  },
  {
   "cell_type": "markdown",
   "metadata": {},
   "source": [
    "## Graph Coalescence"
   ]
  },
  {
   "cell_type": "code",
   "execution_count": 93,
   "metadata": {},
   "outputs": [
    {
     "name": "stdout",
     "output_type": "stream",
     "text": [
      "200\n"
     ]
    }
   ],
   "source": [
    "url = 'https://answercoalesce.renci.org/1.4/coalesce/graph'\n",
    "r = requests.post(url,json=res)\n",
    "print(r.status_code)"
   ]
  },
  {
   "cell_type": "code",
   "execution_count": 96,
   "metadata": {},
   "outputs": [],
   "source": [
    "r = r.json()\n",
    "r['message']['results'] = get_enriched_results(r['message']['results'])"
   ]
  },
  {
   "cell_type": "code",
   "execution_count": 97,
   "metadata": {},
   "outputs": [
    {
     "data": {
      "text/plain": [
       "dict_keys(['query_graph', 'knowledge_graph', 'results', 'auxiliary_graphs'])"
      ]
     },
     "execution_count": 97,
     "metadata": {},
     "output_type": "execute_result"
    }
   ],
   "source": [
    "r['message'].keys()"
   ]
  },
  {
   "cell_type": "code",
   "execution_count": 98,
   "metadata": {},
   "outputs": [],
   "source": [
    "results = r['message']['results']"
   ]
  },
  {
   "cell_type": "code",
   "execution_count": 99,
   "metadata": {},
   "outputs": [
    {
     "name": "stdout",
     "output_type": "stream",
     "text": [
      "{'node_bindings': {'chemical': [{'id': 'MESH:D002800'}], 'disease': [{'id': 'MONDO:0004975', 'qnode_id': 'MONDO:0004975'}]}, 'analyses': [{'resource_id': 'infores:robokop', 'edge_bindings': {'e00': [{'id': '105682211'}]}, 'score': 0.9992083086664353}], 'enrichments': ['_e_ac_119_0', '_e_ac_258_0', '_e_ac_305_0']}\n"
     ]
    }
   ],
   "source": [
    "print(results[0])"
   ]
  },
  {
   "cell_type": "code",
   "execution_count": 101,
   "metadata": {},
   "outputs": [
    {
     "data": {
      "text/plain": [
       "{'edges': ['261180019156679031',\n",
       "  '-1178194912137699869',\n",
       "  '2373973440012019691',\n",
       "  '-296947377203541552',\n",
       "  '-7557434463906463919',\n",
       "  '-7213441619002072108',\n",
       "  '-4436849232629182109',\n",
       "  '-1021565412192226330',\n",
       "  '-6001358890101272806',\n",
       "  '-5857090605758490335',\n",
       "  '642225132184811163',\n",
       "  '-8239036555484639314',\n",
       "  '-2419163180936882588',\n",
       "  '-2268327022151627742',\n",
       "  '-5669979856187961082',\n",
       "  '7208874078642277595',\n",
       "  '510396625418501212',\n",
       "  '-2344661864223075910',\n",
       "  '-8925720489055150852',\n",
       "  '-643177312624469975',\n",
       "  '-645147382608452666',\n",
       "  '1303562234024250170',\n",
       "  '868110430189074435',\n",
       "  '3753110098407304540',\n",
       "  '-6576569211676167826',\n",
       "  '4147111277180386074',\n",
       "  '6003067312642224813',\n",
       "  '8629642084935352774',\n",
       "  '5178468072989176532',\n",
       "  '-5558477613974146344',\n",
       "  '-4404400423461290992',\n",
       "  '3194349908320354591',\n",
       "  '5305154082610386143',\n",
       "  '4433629993932026726',\n",
       "  '-2987203011131711162',\n",
       "  '2240588603850827017',\n",
       "  '1677642041280187206',\n",
       "  '1405357775033545356',\n",
       "  '-8182090656646464083',\n",
       "  '-8125333705011058276',\n",
       "  '-1091318149258598061',\n",
       "  '8454505431396990263',\n",
       "  '5721890501301729311',\n",
       "  '4223839168791111080',\n",
       "  '-262654447221099437',\n",
       "  '-5708315714817633165',\n",
       "  '-4711600368153539524',\n",
       "  '4985871258445908526',\n",
       "  '-8354381013263284159',\n",
       "  '-1340113151854976772',\n",
       "  '-3020912622072024381',\n",
       "  '731890351066279301',\n",
       "  '2820221198438346685',\n",
       "  '-8234347414770351828',\n",
       "  '5394500103167177427',\n",
       "  '-6147828939545240407',\n",
       "  '-2415776037689952894',\n",
       "  '8594245013577202216',\n",
       "  '-3558955877735311103',\n",
       "  '-5488948929861213689',\n",
       "  '-1810879526476282751',\n",
       "  '-3922406578887038664',\n",
       "  '7501151855348531276',\n",
       "  '-8178156269479625529',\n",
       "  '8751144417711399676',\n",
       "  '-3655216061977342343',\n",
       "  '3376392341432373665',\n",
       "  '3593832769793474138',\n",
       "  '7967010087942647902',\n",
       "  '3933753382011284686',\n",
       "  '-1633741736838732132',\n",
       "  '-7106362648429486996',\n",
       "  '8640734048904272753',\n",
       "  '3982315730385757094',\n",
       "  '-4942331635138056971'],\n",
       " 'attributes': [{'attribute_type_id': 'biolink:supporting_study_method_type',\n",
       "   'value': 'graph_enrichment'},\n",
       "  {'attribute_type_id': 'biolink:p_value', 'value': 8.359139878997489e-142},\n",
       "  {'attribute_type_id': 'biolink:object', 'value': 'HP:0002018'},\n",
       "  {'attribute_type_id': 'biolink:predicate',\n",
       "   'value': 'biolink:contributes_to'}]}"
      ]
     },
     "execution_count": 101,
     "metadata": {},
     "output_type": "execute_result"
    }
   ],
   "source": [
    "r['message']['auxiliary_graphs']['_e_ac_119_0']"
   ]
  },
  {
   "cell_type": "code",
   "execution_count": 102,
   "metadata": {},
   "outputs": [],
   "source": [
    "enrichments_to_results  = (get_enrichments2results(r))"
   ]
  },
  {
   "cell_type": "code",
   "execution_count": 103,
   "metadata": {},
   "outputs": [
    {
     "name": "stdout",
     "output_type": "stream",
     "text": [
      "{'chemical': [{'id': 'MESH:D002800'}], 'disease': [{'id': 'MONDO:0004975', 'qnode_id': 'MONDO:0004975'}]}\n"
     ]
    }
   ],
   "source": [
    "print(results[0]['node_bindings'])"
   ]
  },
  {
   "cell_type": "code",
   "execution_count": 104,
   "metadata": {},
   "outputs": [
    {
     "name": "stdout",
     "output_type": "stream",
     "text": [
      "[{'resource_id': 'infores:robokop', 'edge_bindings': {'e00': [{'id': '105682211'}]}, 'score': 0.9992083086664353}]\n"
     ]
    }
   ],
   "source": [
    "print(results[0]['analyses'])"
   ]
  },
  {
   "cell_type": "code",
   "execution_count": 105,
   "metadata": {},
   "outputs": [
    {
     "name": "stdout",
     "output_type": "stream",
     "text": [
      "75 8.359139878997489e-142 HP:0002018 _e_ac_119_0\n",
      "61 3.828522619594381e-107 MONDO:0001386 _e_ac_258_0\n",
      "53 2.5557285917223835e-98 HP:0001662 _e_ac_305_0\n",
      "6 6.2281083518185664e-27 NCBIGene:3972 _e_ac_401_0\n",
      "5 1.5613719443452162e-18 NCBIGene:866 _e_ac_402_0\n",
      "4 2.949413878732459e-18 NCBIGene:1081 _e_ac_403_0\n",
      "4 2.388674650659292e-16 MONDO:0008487 _e_ac_404_0\n",
      "5 3.184815334384216e-16 NCBIGene:6462 _e_ac_405_0\n",
      "4 7.548837531496952e-16 NCBIGene:6462 _e_ac_407_0\n",
      "4 2.8996209669348918e-15 MONDO:0007886 _e_ac_408_0\n",
      "5 4.3887519650135e-15 UMLS:C0340865 _e_ac_409_0\n",
      "151 8.913479289444605e-290 HP:0002013 _e_ac_1_0\n",
      "146 5.064525069064484e-277 HP:0002315 _e_ac_3_0\n",
      "108 1.2054501057196803e-216 HP:0000975 _e_ac_19_0\n",
      "107 1.315356998737993e-209 HP:0002094 _e_ac_23_0\n",
      "101 1.440964052509518e-202 HP:0100749 _e_ac_29_0\n",
      "98 1.3371968625024013e-196 MONDO:0011918 _e_ac_31_0\n",
      "100 2.0939496560369885e-193 UMLS:C0687133 _e_ac_35_0\n",
      "101 1.8615534567616384e-187 UMLS:C0852908 _e_ac_40_0\n",
      "93 1.3472590433570499e-182 UMLS:C3160741 _e_ac_48_0\n",
      "92 3.8454870180151374e-180 MONDO:0005044 _e_ac_50_0\n",
      "92 3.714171363663379e-176 HP:0012531 _e_ac_55_0\n",
      "86 1.6848329326167308e-175 MONDO:0007263 _e_ac_57_0\n",
      "87 2.3986773641568937e-170 HP:0002094 _e_ac_66_0\n",
      "91 7.223306314170925e-169 UMLS:C1096117 _e_ac_68_0\n",
      "85 3.205702241357978e-165 MONDO:0001106 _e_ac_74_0\n",
      "81 2.124655091154582e-163 UMLS:C0029944 _e_ac_76_0\n",
      "85 1.2720089648496068e-162 HP:0012378 _e_ac_78_0\n",
      "84 6.509581038672317e-156 MONDO:0002049 _e_ac_86_0\n",
      "80 3.423234476200747e-154 MONDO:0006547 _e_ac_88_0\n",
      "79 6.008915821283293e-154 HP:0002910 _e_ac_90_0\n",
      "76 2.0288475571062267e-153 HP:0001649 _e_ac_93_0\n",
      "79 7.554443487745821e-153 MONDO:0000775 _e_ac_94_0\n",
      "78 1.1037078812029585e-145 MONDO:0002492 _e_ac_107_0\n",
      "77 6.0385360040375544e-145 MONDO:0005468 _e_ac_110_0\n",
      "76 4.9141854824671713e-144 MONDO:0001673 _e_ac_113_0\n",
      "72 4.432847549521538e-140 UMLS:C3889102 _e_ac_123_0\n",
      "72 1.178483797515534e-137 MONDO:0002317 _e_ac_127_0\n",
      "66 1.062005580508769e-134 MONDO:0005290 _e_ac_134_0\n",
      "68 1.0135337135043037e-132 HP:0001662 _e_ac_138_0\n",
      "64 1.3899225644735874e-131 HP:0001657 _e_ac_145_0\n",
      "67 2.524625272230397e-131 UMLS:C3714514 _e_ac_146_0\n",
      "62 1.8000619004716198e-127 UMLS:C0852733 _e_ac_160_0\n",
      "65 2.095657809765695e-127 HP:0001289 _e_ac_161_0\n",
      "61 4.443330426906872e-127 UMLS:C0520804 _e_ac_164_0\n",
      "62 4.28100233463008e-126 HP:0002153 _e_ac_171_0\n",
      "61 1.6237249529395384e-125 UMLS:C0038663 _e_ac_175_0\n",
      "59 9.653673333095684e-125 MONDO:0007402 _e_ac_178_0\n",
      "62 1.1780524831154034e-119 HP:0025406 _e_ac_190_0\n",
      "60 2.929368814856266e-118 MONDO:0000745 _e_ac_195_0\n",
      "60 3.5422574717721433e-118 MONDO:0001185 _e_ac_196_0\n",
      "64 7.433559469868413e-118 HP:0002018 _e_ac_197_0\n",
      "61 1.787484958593584e-117 HP:0100749 _e_ac_199_0\n",
      "58 1.716336792610297e-116 HP:0001259 _e_ac_204_0\n",
      "59 3.906089703201564e-116 HP:0002902 _e_ac_205_0\n",
      "59 8.275785696358715e-116 UMLS:C0877211 _e_ac_207_0\n",
      "58 8.788689578615864e-116 UMLS:C0235431 _e_ac_208_0\n",
      "62 1.5124745014448726e-115 MONDO:0002492 _e_ac_211_0\n",
      "56 1.0966588760771179e-111 MONDO:0004981 _e_ac_231_0\n",
      "57 1.731820846002369e-111 HP:0001662 _e_ac_232_0\n",
      "59 1.9895202310777868e-110 HP:0100806 _e_ac_239_0\n",
      "55 1.8578768282847205e-108 HP:0012735 _e_ac_247_0\n",
      "57 1.9912481015660727e-108 HP:0004396 _e_ac_248_0\n",
      "68 2.3841164708379526e-108 NCBIGene:836 _e_ac_250_0\n",
      "56 2.7283983073243135e-108 MONDO:0021113 _e_ac_251_0\n",
      "51 7.912653217746669e-108 MONDO:0018546 _e_ac_256_0\n",
      "54 3.2315672633899247e-105 MONDO:0001185 _e_ac_266_0\n",
      "51 4.7310944790379916e-105 HP:0008151 _e_ac_268_0\n",
      "50 5.0802286955578484e-104 UMLS:C0021294 _e_ac_270_0\n",
      "48 2.366334484573197e-102 UMLS:C0856054 _e_ac_282_0\n",
      "51 2.340710831778545e-98 HP:0033834 _e_ac_304_0\n",
      "51 4.60556958359002e-98 MONDO:0001881 _e_ac_309_0\n",
      "49 1.581342936427896e-97 HP:0006543 _e_ac_316_0\n",
      "49 2.281559883903078e-96 HP:0001541 _e_ac_324_0\n",
      "49 2.281559883903078e-96 HP:0031956 _e_ac_326_0\n",
      "47 7.510458553431306e-96 MONDO:0000440 _e_ac_333_0\n",
      "44 2.941911716546416e-91 NCIT:C122529 _e_ac_357_0\n",
      "45 9.956534542139246e-91 MONDO:0006040 _e_ac_361_0\n",
      "50 2.4599806339247095e-90 MONDO:0005044 _e_ac_364_0\n",
      "45 1.3510454187889002e-89 NCBIGene:1544 _e_ac_372_0\n",
      "43 4.252446803062021e-89 MONDO:0006932 _e_ac_374_0\n",
      "44 1.1205084252087883e-88 MONDO:0100096 _e_ac_381_0\n",
      "47 3.447539459675908e-88 MONDO:0043726 _e_ac_383_0\n",
      "45 2.1005559662536778e-86 HP:0031964 _e_ac_397_0\n",
      "91 1.3580218041853225e-167 MONDO:0005240 _e_ac_71_0\n",
      "50 1.6595221072216736e-93 MONDO:0005027 _e_ac_344_0\n",
      "153 6.93941829269572e-289 HP:0002018 _e_ac_2_0\n",
      "145 3.8401433352349826e-275 MONDO:0006547 _e_ac_4_0\n",
      "144 9.354856513651413e-273 MONDO:0002406 _e_ac_5_0\n",
      "141 5.482525336314939e-268 MONDO:0002317 _e_ac_6_0\n",
      "134 3.6783219984085887e-259 HP:0025406 _e_ac_8_0\n",
      "133 6.945693900958207e-259 MONDO:0005271 _e_ac_9_0\n",
      "120 6.772055042204104e-238 MONDO:0002203 _e_ac_13_0\n",
      "117 1.5592719474769523e-228 UMLS:C1443060 _e_ac_15_0\n",
      "111 8.634732665928647e-219 HP:0001262 _e_ac_17_0\n",
      "111 4.120506910315955e-217 MONDO:0004335 _e_ac_18_0\n",
      "109 2.2344444725402934e-212 HP:0012378 _e_ac_20_0\n",
      "111 1.3463507244659072e-208 MONDO:0005154 _e_ac_24_0\n",
      "107 2.9059474824077756e-207 HP:0012531 _e_ac_26_0\n",
      "99 1.5484637758531242e-195 HP:0001649 _e_ac_32_0\n",
      "98 2.0312482500004297e-195 HP:0000217 _e_ac_33_0\n",
      "98 7.760398192819646e-191 MONDO:0005468 _e_ac_36_0\n",
      "96 3.548506170532557e-190 HP:0001289 _e_ac_38_0\n",
      "92 7.655847724414451e-187 HP:0001337 _e_ac_42_0\n",
      "95 3.336121121047138e-185 MONDO:0002049 _e_ac_43_0\n",
      "91 6.018779909995746e-180 MONDO:0005027 _e_ac_51_0\n",
      "89 1.3246243846364557e-178 HP:0000713 _e_ac_52_0\n",
      "93 8.160115126029231e-178 HP:0010783 _e_ac_53_0\n",
      "87 1.774366052748539e-176 UMLS:C0027769 _e_ac_54_0\n",
      "90 4.3226175112153135e-175 MONDO:0005550 _e_ac_58_0\n",
      "86 1.606905712698281e-174 UMLS:C0233494 _e_ac_59_0\n",
      "89 3.267169297080338e-173 HP:0002829 _e_ac_63_0\n",
      "89 3.433616311302727e-171 MONDO:0002280 _e_ac_64_0\n",
      "82 5.501714851793188e-167 HP:0025143 _e_ac_72_0\n",
      "81 7.170891504374963e-164 MONDO:0004907 _e_ac_75_0\n",
      "82 5.2803778939822855e-163 HP:0000622 _e_ac_77_0\n",
      "85 9.420118842423724e-161 HP:0001945 _e_ac_79_0\n",
      "81 7.72192656307243e-160 UMLS:C0277585 _e_ac_81_0\n",
      "81 1.8049338875476768e-155 HP:0002027 _e_ac_87_0\n",
      "77 1.8110693616313369e-153 NCIT:C3399 _e_ac_92_0\n",
      "79 3.096239525619551e-152 MONDO:0003785 _e_ac_95_0\n",
      "76 3.0331737232367114e-151 HP:0001262 _e_ac_97_0\n",
      "74 9.266645918843575e-149 MONDO:0005027 _e_ac_100_0\n",
      "77 2.3585632280432682e-147 HP:0002527 _e_ac_103_0\n",
      "72 3.7302681462241834e-146 UMLS:C0162643 _e_ac_106_0\n",
      "75 2.5015611080965756e-145 HP:0002315 _e_ac_108_0\n",
      "74 2.7550979740992734e-145 MONDO:0004907 _e_ac_109_0\n",
      "75 4.131701805401105e-144 MONDO:0005009 _e_ac_112_0\n",
      "74 5.369681419072097e-144 UMLS:C0746883 _e_ac_114_0\n",
      "73 4.067330277902863e-142 HP:0001386 _e_ac_118_0\n",
      "68 1.771062065909536e-141 HP:0000713 _e_ac_120_0\n",
      "73 7.892081554588248e-140 MONDO:0005249 _e_ac_124_0\n",
      "69 2.5229324783861348e-138 HP:0000505 _e_ac_126_0\n",
      "69 4.349159174683596e-137 MONDO:0011918 _e_ac_128_0\n",
      "70 5.845520173182643e-137 MONDO:0005271 _e_ac_129_0\n",
      "70 8.468973089190711e-137 MONDO:0002050 _e_ac_130_0\n",
      "67 4.794855753814899e-134 HP:0002910 _e_ac_135_0\n",
      "66 2.897208955827589e-132 HP:0000738 _e_ac_140_0\n",
      "65 9.31753287598582e-131 MONDO:0005068 _e_ac_147_0\n",
      "64 2.1389325788618802e-130 HP:0000952 _e_ac_148_0\n",
      "63 6.196511713805376e-130 HP:0031589 _e_ac_149_0\n",
      "61 2.560055050825923e-129 MONDO:0001185 _e_ac_150_0\n",
      "63 3.9819997812428157e-129 UMLS:C3203551 _e_ac_152_0\n",
      "64 8.495177063301152e-129 MONDO:0005961 _e_ac_154_0\n",
      "63 5.870745851164796e-128 MONDO:0006816 _e_ac_156_0\n",
      "62 1.1291882668623088e-127 HP:0001337 _e_ac_158_0\n",
      "67 3.033818159245087e-127 UMLS:C5400280 _e_ac_162_0\n",
      "61 3.4685391019779054e-127 MONDO:0002491 _e_ac_163_0\n",
      "59 1.1846880897996074e-126 MONDO:0005485 _e_ac_166_0\n",
      "63 1.7885201574857745e-126 MONDO:0013600 _e_ac_167_0\n",
      "66 1.9361582622366823e-126 UMLS:C0235874 _e_ac_168_0\n",
      "63 4.0842480847196056e-126 UMLS:C3203555 _e_ac_170_0\n",
      "63 1.1293382091179923e-125 HP:0031437 _e_ac_172_0\n",
      "64 1.3140005309584604e-125 UMLS:C3888435 _e_ac_173_0\n",
      "62 1.5861739627299536e-125 UMLS:C0948525 _e_ac_174_0\n",
      "61 5.146115176027934e-125 MONDO:0005362 _e_ac_177_0\n",
      "63 1.2147750662351575e-124 MONDO:0002317 _e_ac_179_0\n",
      "62 4.576272545125416e-124 MONDO:0001609 _e_ac_180_0\n",
      "57 1.4507701357211318e-123 MONDO:0005485 _e_ac_181_0\n",
      "62 2.7628694469447804e-121 UMLS:C0948715 _e_ac_186_0\n",
      "65 1.5228971485284476e-120 UMLS:C0032961 _e_ac_187_0\n",
      "59 3.505106835040043e-119 HP:0002329 _e_ac_191_0\n",
      "59 5.358114901939822e-119 HP:0007185 _e_ac_192_0\n",
      "61 6.271848479631594e-119 MONDO:0001040 _e_ac_193_0\n",
      "58 9.489493714369404e-119 HP:0000738 _e_ac_194_0\n",
      "56 1.4858624589881842e-117 MONDO:0004781 _e_ac_198_0\n",
      "59 2.1395027048145574e-117 UMLS:C0877232 _e_ac_200_0\n",
      "57 1.6927410149691664e-116 MONDO:0001185 _e_ac_203_0\n",
      "58 1.3126617891558122e-115 UMLS:C4761091 _e_ac_210_0\n",
      "59 7.4409071255446585e-115 MONDO:0015925 _e_ac_212_0\n",
      "56 9.77421159355244e-115 MONDO:0004242 _e_ac_213_0\n",
      "56 7.258302155701853e-114 UMLS:C0043250 _e_ac_217_0\n",
      "58 2.2831305547972085e-113 HP:0001944 _e_ac_218_0\n",
      "55 2.8068983382509724e-113 HP:0001288 _e_ac_219_0\n",
      "54 1.435510419647067e-112 MONDO:0005010 _e_ac_223_0\n",
      "52 3.7095085288330734e-112 HP:0000711 _e_ac_224_0\n",
      "56 3.99951209501444e-112 NCIT:C50535 _e_ac_226_0\n",
      "53 6.076204530941887e-112 MONDO:0002039 _e_ac_229_0\n",
      "56 8.976201854540122e-112 UMLS:C3888823 _e_ac_230_0\n",
      "51 7.10129648290549e-111 HP:0000708 _e_ac_235_0\n",
      "57 8.786656056419801e-111 HP:0009763 _e_ac_236_0\n",
      "54 1.2634982550448e-110 HP:0000975 _e_ac_237_0\n",
      "53 2.674008925171658e-110 HP:0010867 _e_ac_240_0\n",
      "56 2.2711459244857646e-109 MONDO:0008383 _e_ac_243_0\n",
      "56 3.9057755496349636e-109 HP:0001410 _e_ac_244_0\n",
      "51 1.221199838069942e-108 MONDO:0005567 _e_ac_246_0\n",
      "56 3.2449417953397916e-108 MONDO:0005492 _e_ac_252_0\n",
      "60 3.419502797354664e-108 MONDO:0005468 _e_ac_253_0\n",
      "53 4.387733500823905e-108 NCIT:C78253 _e_ac_254_0\n",
      "50 1.9887021430938636e-107 UMLS:C0233414 _e_ac_257_0\n",
      "54 4.4337233776355135e-107 UMLS:C0151828 _e_ac_259_0\n",
      "50 6.097798275308982e-107 UMLS:C0022107 _e_ac_260_0\n",
      "54 1.4035980757836886e-106 MONDO:0100053 _e_ac_263_0\n",
      "53 2.745730531466126e-105 MONDO:0005098 _e_ac_265_0\n",
      "52 3.488581242824185e-105 HP:0000969 _e_ac_267_0\n",
      "51 5.957493659552931e-105 UMLS:C0575090 _e_ac_269_0\n",
      "52 1.1422957243989873e-103 HP:0002783 _e_ac_271_0\n",
      "50 1.3246417570299652e-103 HP:0012378 _e_ac_272_0\n",
      "49 2.2527142396929064e-103 HP:0100660 _e_ac_273_0\n",
      "54 2.3871301784900863e-103 MONDO:0002203 _e_ac_274_0\n",
      "53 2.4572341335010103e-103 HP:0012398 _e_ac_275_0\n",
      "52 2.511123322088128e-103 UMLS:C4761281 _e_ac_276_0\n",
      "49 4.861798043274563e-103 HP:0001260 _e_ac_278_0\n",
      "48 4.063820170783169e-102 UMLS:C0233407 _e_ac_284_0\n",
      "54 5.90817184002239e-102 HP:0010783 _e_ac_286_0\n",
      "47 9.090340184293651e-102 UMLS:C1306341 _e_ac_287_0\n",
      "50 2.349338972482355e-101 HP:0000622 _e_ac_289_0\n",
      "49 9.720255780497567e-101 NCIT:C50601 _e_ac_290_0\n",
      "50 1.0263176400480697e-100 UMLS:C4285809 _e_ac_291_0\n",
      "45 1.4602161640895686e-100 MONDO:0003441 _e_ac_293_0\n",
      "46 2.3002778623061665e-100 HP:0002069 _e_ac_294_0\n",
      "48 8.441859976715671e-100 NCIT:C118302 _e_ac_296_0\n",
      "48 1.0729597182626776e-99 MONDO:0005178 _e_ac_297_0\n",
      "60 1.1727937066386648e-99 MONDO:0005044 _e_ac_298_0\n",
      "45 2.8830554059122065e-99 UMLS:C0853089 _e_ac_299_0\n",
      "48 7.0050122911293315e-99 MONDO:0045057 _e_ac_300_0\n",
      "48 1.107136761109196e-98 UMLS:C0022107 _e_ac_301_0\n",
      "49 2.139070579800186e-98 HP:0003326 _e_ac_302_0\n",
      "49 2.139070579800186e-98 UMLS:C0151763 _e_ac_303_0\n",
      "55 2.6199188885323888e-98 HP:0020172 _e_ac_306_0\n",
      "47 2.8573216215119108e-98 HP:0001681 _e_ac_307_0\n",
      "48 5.3126891332096495e-98 MONDO:0005578 _e_ac_310_0\n",
      "45 1.551324977938541e-97 MONDO:0004730 _e_ac_314_0\n",
      "48 1.579267546146256e-97 MONDO:0000265 _e_ac_315_0\n",
      "48 2.425069116998366e-97 UMLS:C4049188 _e_ac_317_0\n",
      "49 3.441720755932386e-97 MONDO:0004979 _e_ac_318_0\n",
      "49 6.117689393572211e-97 MONDO:0001529 _e_ac_321_0\n",
      "49 2.281559883903078e-96 UMLS:C1443060 _e_ac_327_0\n",
      "48 2.400276699377378e-96 NCIT:C111970 _e_ac_328_0\n",
      "48 3.5994059938631688e-96 UMLS:C4728056 _e_ac_329_0\n",
      "45 7.888242561451025e-96 MONDO:0003406 _e_ac_334_0\n",
      "47 1.1610529215034354e-95 HP:0011227 _e_ac_335_0\n",
      "47 1.4414065960925518e-95 MONDO:0013792 _e_ac_336_0\n",
      "46 2.2532992754997842e-95 HP:0000790 _e_ac_337_0\n",
      "46 2.2532992754997842e-95 HP:0001254 _e_ac_338_0\n",
      "55 3.009889686846523e-95 HP:0012531 _e_ac_339_0\n",
      "48 3.14902133184969e-95 HP:0005528 _e_ac_340_0\n",
      "48 6.766023481113873e-95 MONDO:0004946 _e_ac_342_0\n",
      "47 2.8817731263044185e-93 UMLS:C1963761 _e_ac_345_0\n",
      "47 6.187781303588994e-93 UMLS:C0700572 _e_ac_347_0\n",
      "45 1.0380476256512196e-92 UMLS:C2047937 _e_ac_348_0\n",
      "47 1.3123699845892973e-92 MONDO:0005300 _e_ac_349_0\n",
      "43 1.7553645343588042e-91 MONDO:0005303 _e_ac_352_0\n",
      "49 1.9598566740436177e-91 HP:0000989 _e_ac_353_0\n",
      "46 2.1750138444997514e-91 MONDO:0004335 _e_ac_354_0\n",
      "46 2.1750138444997514e-91 UMLS:C0235378 _e_ac_356_0\n",
      "45 5.334320496884626e-91 UMLS:C3854347 _e_ac_358_0\n",
      "40 6.945178517698569e-91 HP:0100754 _e_ac_359_0\n",
      "50 7.66354924071927e-91 UMLS:C1623040 _e_ac_360_0\n",
      "45 1.5021475759892351e-90 MONDO:0010481 _e_ac_363_0\n",
      "43 3.825469452913804e-90 NCIT:C3137 _e_ac_365_0\n",
      "43 4.897494445092139e-90 MONDO:0003406 _e_ac_366_0\n",
      "43 6.261038028820907e-90 HP:0002249 _e_ac_367_0\n",
      "44 7.088152084741188e-90 HP:0000651 _e_ac_368_0\n",
      "40 8.515863445332753e-90 MONDO:0002025 _e_ac_369_0\n",
      "43 8.536120817380185e-89 NCIT:C50805 _e_ac_378_0\n",
      "42 9.642704104428183e-89 MONDO:0005129 _e_ac_379_0\n",
      "48 9.922845391470178e-88 HP:0002013 _e_ac_384_0\n",
      "43 1.5430781080829626e-87 MONDO:0007915 _e_ac_385_0\n",
      "43 1.9127112559900942e-87 MONDO:0005083 _e_ac_386_0\n",
      "42 4.859743150228578e-87 HP:0005943 _e_ac_390_0\n",
      "42 7.737389901854975e-87 MONDO:0005904 _e_ac_392_0\n",
      "42 1.9316283817012528e-86 UMLS:C0581287 _e_ac_396_0\n",
      "93 9.98204004534743e-176 UMLS:C1306577 _e_ac_56_0\n",
      "88 7.399354271047895e-171 MONDO:0100053 _e_ac_65_0\n",
      "88 3.560989236723776e-142 MONDO:0005359 _e_ac_116_0\n",
      "67 2.543302193163618e-128 HP:0002315 _e_ac_155_0\n",
      "57 1.3961816239499163e-105 HP:0002013 _e_ac_264_0\n",
      "137 8.800488125602368e-263 MONDO:0001673 _e_ac_7_0\n",
      "128 2.7535148332944888e-244 HP:0000989 _e_ac_10_0\n",
      "106 2.5694043957941534e-208 UMLS:C0948594 _e_ac_25_0\n",
      "100 3.4553420536780884e-198 MONDO:0005071 _e_ac_30_0\n",
      "97 1.9626949233531918e-190 HP:0000969 _e_ac_37_0\n",
      "94 5.859458291483592e-187 HP:0003326 _e_ac_41_0\n",
      "86 8.309415163544549e-170 HP:0001962 _e_ac_67_0\n",
      "82 1.2404113345483594e-160 MONDO:0002280 _e_ac_80_0\n",
      "77 2.3816541824490395e-159 MONDO:0002251 _e_ac_82_0\n",
      "80 3.585543573904999e-159 HP:0002487 _e_ac_84_0\n",
      "80 4.815385503774298e-150 NCBIGene:1576 _e_ac_98_0\n",
      "72 5.812740635591256e-149 MONDO:0002515 _e_ac_99_0\n",
      "74 9.128156048108738e-148 MONDO:0005385 _e_ac_101_0\n",
      "73 1.2863405532598864e-146 MONDO:0005267 _e_ac_104_0\n",
      "69 3.600404184355195e-142 MONDO:0002050 _e_ac_117_0\n",
      "69 6.691421561215056e-136 MONDO:0005046 _e_ac_132_0\n",
      "60 5.554481806220259e-112 MONDO:0005359 _e_ac_228_0\n",
      "61 1.8830666775805107e-109 NCBIGene:1576 _e_ac_242_0\n",
      "52 6.580665792749762e-107 HP:0003394 _e_ac_261_0\n",
      "54 7.913194621299487e-107 MONDO:0005009 _e_ac_262_0\n",
      "49 1.572095897086576e-96 MONDO:0005240 _e_ac_323_0\n",
      "3 3.8110020027728395e-14 NCBIGene:7124 _e_ac_410_0\n",
      "4 3.9407138704353245e-16 MONDO:0008727 _e_ac_406_0\n",
      "106 1.6745200947940804e-206 MONDO:0002268 _e_ac_27_0\n",
      "77 1.204364149330856e-153 MONDO:0005137 _e_ac_91_0\n",
      "72 1.3061449240863082e-139 HP:0031249 _e_ac_125_0\n",
      "50 1.2912778058883492e-90 NCIT:C3137 _e_ac_362_0\n",
      "125 3.1302465487083306e-240 HP:0002027 _e_ac_11_0\n",
      "122 4.437113600384676e-238 MONDO:0005492 _e_ac_12_0\n",
      "120 5.985826757599973e-233 HP:0001945 _e_ac_14_0\n",
      "112 3.18023285760323e-222 MONDO:0013600 _e_ac_16_0\n",
      "108 2.0295877089352917e-210 HP:0004396 _e_ac_21_0\n",
      "106 9.056538389170586e-210 HP:0002039 _e_ac_22_0\n",
      "105 3.397446046641943e-205 HP:0003401 _e_ac_28_0\n",
      "97 1.50353203680429e-193 UMLS:C0234215 _e_ac_34_0\n",
      "96 5.612904790011247e-188 MONDO:0005093 _e_ac_39_0\n",
      "92 3.967422264815784e-185 HP:0033834 _e_ac_44_0\n",
      "93 1.4686003073773184e-184 HP:0002829 _e_ac_45_0\n",
      "93 3.274885991970599e-184 UMLS:C0178298 _e_ac_46_0\n",
      "91 5.104642454396708e-184 UMLS:C2047937 _e_ac_47_0\n",
      "93 8.987279798727448e-182 HP:0031273 _e_ac_49_0\n",
      "88 3.7343788092223515e-174 HP:0007185 _e_ac_60_0\n",
      "88 1.7987012342746712e-173 MONDO:0003785 _e_ac_61_0\n",
      "85 2.4001682636299222e-173 MONDO:0002025 _e_ac_62_0\n",
      "85 6.223170093496408e-168 HP:0001279 _e_ac_69_0\n",
      "83 1.3451365934671446e-167 HP:0033589 _e_ac_70_0\n",
      "85 1.1263080934348762e-166 HP:0012735 _e_ac_73_0\n",
      "80 2.390242940156843e-159 HP:0003418 _e_ac_83_0\n",
      "75 5.376279420499664e-154 MONDO:0002258 _e_ac_89_0\n",
      "75 1.485696032334251e-151 HP:0000360 _e_ac_96_0\n",
      "71 1.7283626817727556e-146 HP:0000421 _e_ac_105_0\n",
      "68 3.0648127818460178e-142 HP:0004324 _e_ac_115_0\n",
      "68 4.0985299328610077e-140 MONDO:0003799 _e_ac_122_0\n",
      "67 2.293170147556494e-136 MONDO:0005961 _e_ac_131_0\n",
      "66 2.3553204449207008e-132 HP:0003474 _e_ac_139_0\n",
      "64 4.293818459115156e-132 MONDO:0006598 _e_ac_141_0\n",
      "66 6.589951990165293e-132 MONDO:0002118 _e_ac_142_0\n",
      "66 8.080019286094621e-132 MONDO:0003014 _e_ac_143_0\n",
      "66 1.2124118095392822e-131 MONDO:0004184 _e_ac_144_0\n",
      "61 9.90017907861304e-128 MONDO:0005812 _e_ac_157_0\n",
      "62 1.4263253923866361e-127 HP:0100515 _e_ac_159_0\n",
      "62 1.967822402906457e-125 MONDO:0005247 _e_ac_176_0\n",
      "58 2.8744114513050454e-123 HP:0000712 _e_ac_182_0\n",
      "60 4.654618861728092e-123 HP:0100518 _e_ac_183_0\n",
      "60 4.406851156292977e-122 NCBIGene:5243 _e_ac_185_0\n",
      "61 4.6918748383514325e-120 HP:0012398 _e_ac_188_0\n",
      "55 9.524758499752471e-117 UMLS:C0233472 _e_ac_201_0\n",
      "57 1.0784968557246856e-116 MONDO:0003781 _e_ac_202_0\n",
      "57 5.362080414740543e-114 MONDO:0005542 _e_ac_214_0\n",
      "57 6.565046385002966e-114 MONDO:0005068 _e_ac_216_0\n",
      "57 7.051090157619585e-113 HP:0000790 _e_ac_221_0\n",
      "54 4.838145541620497e-112 MONDO:0005469 _e_ac_227_0\n",
      "56 2.9534110653797013e-111 MONDO:0005244 _e_ac_233_0\n",
      "54 4.030666849397338e-111 HP:0001324 _e_ac_234_0\n",
      "56 1.390444406042446e-110 NCBIGene:1565 _e_ac_238_0\n",
      "55 8.206258414582059e-110 MONDO:0005249 _e_ac_241_0\n",
      "55 8.659521077173687e-109 MONDO:0004842 _e_ac_245_0\n",
      "51 2.5738243108927686e-103 HP:0002015 _e_ac_277_0\n",
      "51 1.6965759741151034e-102 MONDO:0004979 _e_ac_281_0\n",
      "52 2.9984435987204234e-102 MONDO:0005135 _e_ac_283_0\n",
      "51 2.2969683003076634e-101 NCBIGene:1559 _e_ac_288_0\n",
      "50 1.262480576387019e-100 MONDO:0015691 _e_ac_292_0\n",
      "50 6.271866063075354e-98 MONDO:0002909 _e_ac_311_0\n",
      "46 9.033827912706139e-98 MONDO:0002269 _e_ac_312_0\n",
      "49 1.2993836763069654e-97 HP:0001681 _e_ac_313_0\n",
      "47 6.031247707816005e-96 HP:0000016 _e_ac_331_0\n",
      "45 1.2609090456035087e-93 MONDO:0005365 _e_ac_343_0\n",
      "44 5.693141085049427e-93 HP:0000103 _e_ac_346_0\n",
      "44 8.820506826932436e-90 UMLS:C0855242 _e_ac_370_0\n",
      "43 2.0941019962568168e-89 MONDO:0021178 _e_ac_373_0\n",
      "43 8.536120817380185e-89 MONDO:0004981 _e_ac_377_0\n",
      "43 1.0741056645662197e-88 UMLS:C0039971 _e_ac_380_0\n",
      "43 3.6195214826129976e-87 MONDO:0005277 _e_ac_389_0\n",
      "43 8.349534995813117e-87 NCBIGene:1557 _e_ac_393_0\n",
      "43 1.2604792232302057e-86 HP:0000282 _e_ac_394_0\n",
      "40 2.181727107348977e-86 NCIT:C117263 _e_ac_398_0\n",
      "42 2.4205207183641946e-86 HP:0002591 _e_ac_399_0\n",
      "28 1.3877084500714566e-66 UMLS:C0029944 _e_ac_415_0\n",
      "28 6.878916933206075e-64 MONDO:0001673 _e_ac_416_0\n",
      "31 1.0728186690177662e-63 MONDO:0006547 _e_ac_417_0\n",
      "31 1.1119343700192022e-63 MONDO:0002406 _e_ac_418_0\n",
      "31 1.0472566403303615e-62 HP:0002018 _e_ac_419_0\n",
      "29 5.10210156239477e-62 UMLS:C0852908 _e_ac_420_0\n",
      "27 1.2723182441031649e-61 MONDO:0001475 _e_ac_421_0\n",
      "27 2.8939369618529633e-61 HP:0002018 _e_ac_422_0\n",
      "27 7.597735026201679e-61 UMLS:C3160741 _e_ac_423_0\n",
      "27 1.193257848841284e-59 HP:0012531 _e_ac_424_0\n",
      "25 1.37185507977664e-59 MONDO:0001040 _e_ac_425_0\n",
      "27 3.054045276478029e-59 UMLS:C0687133 _e_ac_426_0\n",
      "25 1.430637917971742e-58 MONDO:0005044 _e_ac_427_0\n",
      "26 2.9920297479289945e-58 HP:0002829 _e_ac_428_0\n",
      "26 2.9920297479289945e-58 MONDO:0100053 _e_ac_429_0\n",
      "24 1.6136949986391542e-57 MONDO:0000745 _e_ac_430_0\n",
      "26 2.612122596087432e-57 HP:0001945 _e_ac_431_0\n",
      "25 2.702456637936821e-57 UMLS:C0277585 _e_ac_432_0\n",
      "25 5.84408883031926e-57 MONDO:0002317 _e_ac_433_0\n",
      "24 6.134997138172622e-57 HP:0004324 _e_ac_434_0\n",
      "28 7.145996286451619e-57 MONDO:0002317 _e_ac_435_0\n",
      "24 1.0852896960076945e-56 UMLS:C3888435 _e_ac_436_0\n",
      "25 1.3827193675872099e-56 MONDO:0000775 _e_ac_437_0\n",
      "28 1.3849928447164408e-56 HP:0002013 _e_ac_438_0\n",
      "25 2.1629215113722408e-56 MONDO:0003785 _e_ac_440_0\n",
      "25 6.067107205974585e-56 HP:0002027 _e_ac_442_0\n",
      "27 8.862809723082468e-56 HP:0000989 _e_ac_443_0\n",
      "24 1.1345904107605641e-55 MONDO:0005271 _e_ac_444_0\n",
      "25 1.5519348837021354e-55 MONDO:0005468 _e_ac_445_0\n",
      "24 2.6900889641657174e-54 HP:0002910 _e_ac_447_0\n",
      "27 5.400770972759551e-54 HP:0002315 _e_ac_448_0\n",
      "26 6.381071463544131e-54 MONDO:0005271 _e_ac_449_0\n",
      "25 8.947136793735327e-54 UMLS:C1306577 _e_ac_450_0\n",
      "24 1.4350995373121547e-53 HP:0002094 _e_ac_451_0\n",
      "22 1.966020164085749e-53 NCBIGene:5243 _e_ac_452_0\n",
      "22 3.442372795293481e-53 UMLS:C3888823 _e_ac_453_0\n",
      "23 3.727801040711814e-53 HP:0001662 _e_ac_454_0\n",
      "25 3.7637946619991805e-53 UMLS:C1096117 _e_ac_455_0\n",
      "23 6.098871158174889e-53 NCIT:C3399 _e_ac_456_0\n",
      "21 6.23977675793604e-53 MONDO:0005609 _e_ac_457_0\n",
      "23 1.2518935062514382e-52 MONDO:0004907 _e_ac_458_0\n",
      "21 1.4983451951170382e-52 HP:0008151 _e_ac_459_0\n",
      "24 1.6268913715546035e-52 MONDO:0002280 _e_ac_460_0\n",
      "25 1.6442844176273112e-52 MONDO:0005492 _e_ac_461_0\n",
      "24 1.787316728438628e-52 MONDO:0002492 _e_ac_462_0\n",
      "24 2.0566756478909363e-52 NCBIGene:1576 _e_ac_463_0\n",
      "22 2.281461579659249e-52 MONDO:0005961 _e_ac_464_0\n",
      "22 3.268223021776675e-52 MONDO:0005068 _e_ac_465_0\n",
      "22 3.509349216450368e-52 UMLS:C0948048 _e_ac_466_0\n",
      "22 7.062789244562229e-52 HP:0009763 _e_ac_467_0\n",
      "24 8.751256844708579e-52 UMLS:C0948594 _e_ac_468_0\n",
      "21 9.290868430336646e-52 UMLS:C4285809 _e_ac_469_0\n",
      "23 1.5433730832871806e-51 MONDO:0005009 _e_ac_470_0\n",
      "24 2.2558694464882964e-51 MONDO:0002268 _e_ac_472_0\n",
      "23 2.47166135066142e-51 UMLS:C0032961 _e_ac_473_0\n",
      "23 3.541597273638926e-51 HP:0002018 _e_ac_475_0\n",
      "22 3.945920994652335e-51 MONDO:0011918 _e_ac_476_0\n",
      "24 4.213382993351564e-51 MONDO:0004335 _e_ac_477_0\n",
      "25 4.2773646770075897e-51 HP:0025406 _e_ac_478_0\n",
      "22 5.082345214107947e-51 MONDO:0005027 _e_ac_479_0\n",
      "82 4.1329806817556704e-159 MONDO:0001475 _e_ac_85_0\n",
      "72 6.217280508876639e-145 MONDO:0006545 _e_ac_111_0\n",
      "68 8.764821635670968e-135 MONDO:0005328 _e_ac_133_0\n",
      "65 1.943302708302826e-133 MONDO:0018229 _e_ac_136_0\n",
      "61 4.3748527317719963e-129 MONDO:0019810 _e_ac_153_0\n",
      "59 3.181690486503266e-122 MONDO:0004982 _e_ac_184_0\n",
      "59 6.865686565607856e-116 UMLS:C0518015 _e_ac_206_0\n",
      "59 9.969566226029717e-116 NCIT:C26791 _e_ac_209_0\n",
      "54 2.2199610579513785e-108 UMLS:C0041912 _e_ac_249_0\n",
      "53 1.0130383544094252e-102 MONDO:0001106 _e_ac_280_0\n",
      "51 4.767835131048914e-100 UMLS:C0851341 _e_ac_295_0\n",
      "49 5.05411307670864e-97 MONDO:0020579 _e_ac_320_0\n",
      "47 1.1672160483275442e-91 HP:0001945 _e_ac_351_0\n",
      "45 1.3510454187889002e-89 MONDO:0001040 _e_ac_371_0\n",
      "44 1.6877666724203163e-88 MONDO:0005277 _e_ac_382_0\n",
      "45 3.2834232736705384e-87 MONDO:0001475 _e_ac_388_0\n",
      "42 2.4205207183641946e-86 MONDO:0043233 _e_ac_400_0\n",
      "76 1.9270101957815545e-147 MONDO:0010481 _e_ac_102_0\n",
      "71 1.4041295111863355e-140 UMLS:C0025061 _e_ac_121_0\n",
      "68 8.434239266167711e-133 MONDO:0005044 _e_ac_137_0\n",
      "67 3.886216115574334e-129 UMLS:C0242656 _e_ac_151_0\n",
      "63 7.745960143747642e-127 MONDO:0003620 _e_ac_165_0\n",
      "64 2.8811856983781893e-126 HP:0004324 _e_ac_169_0\n",
      "60 7.029643604990804e-120 MONDO:0004842 _e_ac_189_0\n",
      "58 6.261930976402183e-114 UMLS:C0948048 _e_ac_215_0\n",
      "58 6.764443507915094e-113 MONDO:0003900 _e_ac_220_0\n",
      "56 1.4316686024435908e-112 HP:0002487 _e_ac_222_0\n",
      "58 3.954755569479185e-112 MONDO:0001529 _e_ac_225_0\n",
      "55 4.7533520735429684e-108 HP:0001875 _e_ac_255_0\n",
      "50 5.391858111561114e-103 HP:0000421 _e_ac_279_0\n",
      "50 5.140454487791483e-102 MONDO:0002657 _e_ac_285_0\n",
      "50 3.6182120521199907e-98 HP:0002202 _e_ac_308_0\n",
      "50 4.480877007963554e-97 MONDO:0003019 _e_ac_319_0\n",
      "49 2.281559883903078e-96 HP:0003418 _e_ac_325_0\n",
      "48 5.379176319033135e-96 UMLS:C0595877 _e_ac_330_0\n",
      "47 4.1882763447189034e-95 UMLS:C0232492 _e_ac_341_0\n",
      "46 2.1750138444997514e-91 NCIT:C50640 _e_ac_355_0\n",
      "46 4.300746905450554e-89 MONDO:0019182 _e_ac_375_0\n",
      "44 7.410252614678909e-89 MONDO:0005609 _e_ac_376_0\n",
      "45 7.706526919383183e-87 MONDO:0018229 _e_ac_391_0\n",
      "49 1.080131405523424e-96 HP:0001279 _e_ac_322_0\n",
      "44 3.341947867603913e-92 NCIT:C26943 _e_ac_350_0\n",
      "45 2.7628796383703507e-87 NCBIGene:1565 _e_ac_387_0\n",
      "42 1.9316283817012528e-86 UMLS:C0549405 _e_ac_395_0\n",
      "2 4.674208248969289e-10 NCBIGene:3565 _e_ac_411_0\n",
      "25 1.4628988321931472e-56 HP:0020172 _e_ac_439_0\n",
      "46 6.806361380092743e-96 MONDO:0002610 _e_ac_332_0\n",
      "25 2.8492592009360704e-56 MONDO:0006547 _e_ac_441_0\n",
      "23 1.633664150048376e-54 MONDO:0005492 _e_ac_446_0\n",
      "24 1.825040628950872e-51 MONDO:0002049 _e_ac_471_0\n",
      "20 3.33840182244155e-51 UMLS:C0178874 _e_ac_474_0\n",
      "22 5.761685741169592e-51 HP:0001649 _e_ac_480_0\n",
      "2 8.77652803649739e-09 MONDO:0013400 _e_ac_412_0\n",
      "2 8.77652803649739e-09 NCBIGene:412 _e_ac_413_0\n",
      "2 2.0771859465403037e-08 NCBIGene:3283 _e_ac_414_0\n",
      "5 3.6348031516986173e-11 HP:0012378 _e_ac_481_0\n",
      "4 5.7058981663678426e-11 NCBIGene:1558 _e_ac_482_0\n",
      "5 6.254610341183075e-11 HP:0001945 _e_ac_483_0\n",
      "5 1.1543275532434432e-10 HP:0025406 _e_ac_484_0\n",
      "5 2.437894138321582e-10 HP:0002013 _e_ac_486_0\n",
      "5 2.568541560661746e-10 MONDO:0006547 _e_ac_487_0\n",
      "5 2.5833959714274046e-10 MONDO:0002406 _e_ac_488_0\n",
      "5 2.658699670858122e-10 HP:0002315 _e_ac_489_0\n",
      "5 3.706930449118307e-10 HP:0002018 _e_ac_490_0\n",
      "4 4.603317796223407e-10 MONDO:0005542 _e_ac_491_0\n",
      "4 4.669295602981465e-10 MONDO:0005068 _e_ac_492_0\n",
      "4 7.273177115212399e-10 UMLS:C0518015 _e_ac_494_0\n",
      "4 7.459821167274472e-10 NCIT:C26791 _e_ac_495_0\n",
      "4 1.1735697949608854e-09 HP:0000969 _e_ac_496_0\n",
      "3 2.1542095959645316e-09 MONDO:0020579 _e_ac_497_0\n",
      "4 3.055784765795641e-09 MONDO:0003785 _e_ac_498_0\n",
      "4 1.922515311497481e-10 HP:0002487 _e_ac_485_0\n",
      "3 6.091984636371923e-10 MONDO:0000440 _e_ac_493_0\n"
     ]
    }
   ],
   "source": [
    "auxg = r['message']['auxiliary_graphs']\n",
    "for enrichment, chemnodes in enrichments_to_results.items():\n",
    "    attributes = auxg[enrichment]['attributes']\n",
    "    values = [attr['value'] for attr in attributes]\n",
    "    print(len(chemnodes), values[1], values[2], enrichment)"
   ]
  },
  {
   "cell_type": "code",
   "execution_count": 134,
   "metadata": {},
   "outputs": [
    {
     "name": "stdout",
     "output_type": "stream",
     "text": [
      "It took 0:00:00.092915 s to return\n",
      "404\n"
     ]
    }
   ],
   "source": [
    "def create_proc_question(disease_curie, relation_type, answer_type):\n",
    "    question = {'query_graph':{ \n",
    "                    \"nodes\": {\"n0\": {'ids': [disease_curie], 'is_set': False, 'constraints': []},\n",
    "                               'n1': {'categories': [answer_type],'is_set': False,'constraints': []}},\n",
    "                    'edges': {'e00': {'subject': 'n1',\n",
    "                                    'object': 'n0',\n",
    "                                    'predicates': [relation_type],\n",
    "                                    'attribute_constraints': [],\n",
    "                                    'qualifier_constraints': []}}\n",
    "                    }\n",
    "                }\n",
    "    return {'message':question}\n",
    "\n",
    "disease = \"MONDO:0005148\"   #T2D\n",
    "edgetype=\"biolink:disrupts\"\n",
    "answer_type = 'biolink:BiologicalProcessOrActivity'\n",
    "question = create_proc_question(disease,edgetype, answer_type)\n",
    "res = query_automat(question,'uberon')"
   ]
  }
 ],
 "metadata": {
  "interpreter": {
   "hash": "d5e18dff730b573721521a215993a14aab24234f14b7478f6c5ac11b129084bb"
  },
  "kernelspec": {
   "display_name": "Python 3.11.0 ('creativethings')",
   "language": "python",
   "name": "python3"
  },
  "language_info": {
   "codemirror_mode": {
    "name": "ipython",
    "version": 3
   },
   "file_extension": ".py",
   "mimetype": "text/x-python",
   "name": "python",
   "nbconvert_exporter": "python",
   "pygments_lexer": "ipython3",
   "version": "3.11.0"
  }
 },
 "nbformat": 4,
 "nbformat_minor": 4
}
