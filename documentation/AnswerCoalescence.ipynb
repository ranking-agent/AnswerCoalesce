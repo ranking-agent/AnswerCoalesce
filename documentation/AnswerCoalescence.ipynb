{
 "cells": [
  {
   "cell_type": "markdown",
   "metadata": {},
   "source": [
    "# Answer Coalescence\n",
    "\n",
    "Strider finds and ranks all paths that fulfill the query.  Some of these answers can be very similar.  For instance, two answers may differ only by a gene node, but perhaps those genes are from the same family.  This permits a higher-level, more parsimonious description of an answer set."
   ]
  },
  {
   "cell_type": "code",
   "execution_count": 106,
   "metadata": {},
   "outputs": [],
   "source": [
    "import requests\n",
    "import json\n",
    "import time\n",
    "import pandas as pd\n",
    "\n",
    "from doc_utils import *\n",
    "#GammaViewer available from https://github.com/ranking-agent/gamma-viewer\n",
    "from gamma_viewer import GammaViewer\n",
    "from IPython.display import display"
   ]
  },
  {
   "cell_type": "code",
   "execution_count": 64,
   "metadata": {},
   "outputs": [],
   "source": [
    "def getlabel(curie):\n",
    "    url = 'https://nodenormalization-sri.renci.org/get_normalized_nodes'\n",
    "    try:\n",
    "        r = requests.get(url,params={'curie':curie}).json()\n",
    "        return r[curie]['id']['label']\n",
    "    except:\n",
    "        return ''\n",
    "\n",
    "class Strider:\n",
    "    def __init__(self):\n",
    "        # self.url='http://robokop.renci.org:5781'\n",
    "        self.url = f'https://aragorn.renci.org/robokop'\n",
    "    def call(self,question):\n",
    "        message = {'message': {'query_graph': question}}\n",
    "        return self.send_message(message)\n",
    "    def send_message(self,message):\n",
    "        response = requests.post(f'{self.url}/query',json=message)\n",
    "        if response.status_code == 200:\n",
    "            pid = response.json()\n",
    "            return pid\n",
    "        else:\n",
    "            print(response.status_code)\n",
    "            return None\n",
    "    def query_result(self,pid):\n",
    "        r = requests.get(f'{self.url}/results',params={'query_id':pid})\n",
    "        return r.json()\n",
    "    \n",
    "strider = Strider()"
   ]
  },
  {
   "cell_type": "code",
   "execution_count": 95,
   "metadata": {},
   "outputs": [
    {
     "name": "stdout",
     "output_type": "stream",
     "text": [
      "17 results, 17 Omnicorp Support graphs returned\n"
     ]
    }
   ],
   "source": [
    "def create_message():\n",
    "    query_graph = {\n",
    "    \"nodes\": {\n",
    "        \"n0\":{\n",
    "            \"ids\": [\"MONDO:0005015\"],'is_set': False,'constraints': []\n",
    "        },\n",
    "        \"n1\":{\n",
    "            \"categories\": [\"biolink:Disease\"],'is_set': False,'constraints': []\n",
    "        },\n",
    "        \"n2\":{\n",
    "            \"categories\": [\"biolink:GeneProductMixin\"],'is_set': False,'constraints': []\n",
    "        }\n",
    "    },\n",
    "    \"edges\": {\n",
    "        'e00': {'subject': 'n1',\n",
    "                'object': 'n0',\n",
    "                'predicates': [\"biolink:subclass_of\"],\n",
    "                'attribute_constraints': [],\n",
    "                'qualifier_constraints': []},\n",
    "        'e01': {'subject': 'n1',\n",
    "                'object': 'n2',\n",
    "                'predicates': [\"biolink:regulates\"],\n",
    "                'attribute_constraints': [],\n",
    "                'qualifier_constraints': []}}\n",
    "    }\n",
    "    message = {\"message\": {\"query_graph\": query_graph,\n",
    "                          'knowledge_graph':{\"nodes\": [], \"edges\": [],}, \n",
    "                           'results':[{\"node_bindings\": [],\"edge_bindings\": []}]}}\n",
    "    return message\n",
    "message = create_message()\n",
    "m2 = {'message': {'query_graph': message['message']['query_graph']}}\n",
    "p = strider.send_message(m2)\n",
    "print(f\"{len(p['message']['results'])} results, {len(p['message']['auxiliary_graphs'])} Omnicorp Support graphs returned\")"
   ]
  },
  {
   "cell_type": "code",
   "execution_count": 96,
   "metadata": {},
   "outputs": [
    {
     "data": {
      "text/plain": [
       "dict_keys(['query_graph', 'knowledge_graph', 'results'])"
      ]
     },
     "execution_count": 96,
     "metadata": {},
     "output_type": "execute_result"
    }
   ],
   "source": [
    "p['message'].pop('auxiliary_graphs')\n",
    "p['message'].keys()"
   ]
  },
  {
   "cell_type": "code",
   "execution_count": 97,
   "metadata": {},
   "outputs": [],
   "source": [
    "# message = create_message()\n",
    "react_component = GammaViewer(props={\"data\":message['message']})\n",
    "display(react_component)"
   ]
  },
  {
   "cell_type": "code",
   "execution_count": 91,
   "metadata": {},
   "outputs": [],
   "source": [
    "strider_result=strider.query_result(p)\n",
    "while len(strider_result['results']) == 0:\n",
    "    time.sleep(5)\n",
    "    print('checking')\n",
    "    strider_result = strider.query_result(p)\n",
    "print('results found')"
   ]
  },
  {
   "cell_type": "code",
   "execution_count": 92,
   "metadata": {
    "scrolled": true
   },
   "outputs": [],
   "source": [
    "time.sleep(5)\n",
    "strider_result = strider.query_result(p)\n",
    "print(f\"Found {len(strider_result['results'])} results\")"
   ]
  },
  {
   "cell_type": "markdown",
   "metadata": {},
   "source": [
    "## Coalesce Answers by Property"
   ]
  },
  {
   "cell_type": "code",
   "execution_count": 102,
   "metadata": {},
   "outputs": [
    {
     "name": "stdout",
     "output_type": "stream",
     "text": [
      "3907 results, 3052 Omnicorp Support graphs returned\n"
     ]
    }
   ],
   "source": [
    "def create_message():\n",
    "    query_graph = {\n",
    "    \"nodes\": {\n",
    "        \"n0\":{\n",
    "            \"ids\": [\"MONDO:0005015\"],'is_set': False,'constraints': []\n",
    "        },\n",
    "        \"n1\":{\n",
    "            \"categories\": [\"biolink:ChemicalEntity\"],'is_set': False,'constraints': []\n",
    "        }\n",
    "    },\n",
    "    \"edges\": {\n",
    "        'e00': {'subject': 'n1',\n",
    "                'object': 'n0',\n",
    "                'predicates': [\"biolink:treats\"],\n",
    "                'attribute_constraints': [],\n",
    "                'qualifier_constraints': []}}\n",
    "    }\n",
    "    message = {\"message\": {\"query_graph\": query_graph,\n",
    "                          'knowledge_graph':{\"nodes\": [], \"edges\": [],}, \n",
    "                           'results':[{\"node_bindings\": [],\"edge_bindings\": []}]}}\n",
    "    return message\n",
    "message = create_message()\n",
    "m2 = {'message': {'query_graph': message['message']['query_graph']}}\n",
    "pp = strider.send_message(m2)\n",
    "print(f\"{len(pp['message']['results'])} results, {len(pp['message'].get('auxiliary_graphs', ''))} Omnicorp Support graphs returned\")"
   ]
  },
  {
   "cell_type": "code",
   "execution_count": 103,
   "metadata": {},
   "outputs": [
    {
     "name": "stdout",
     "output_type": "stream",
     "text": [
      "200\n",
      "dict_keys(['query_graph', 'knowledge_graph', 'results', 'auxiliary_graphs'])\n",
      "3907 results, 366 enrichments returned\n"
     ]
    }
   ],
   "source": [
    "url = \"https://answercoalesce.renci.org/1.4/coalesce/property\"\n",
    "p_r = requests.post(url,json=pp)\n",
    "print(p_r.status_code)\n",
    "property_result = p_r.json()\n",
    "print(property_result['message'].keys())\n",
    "print(f\"{len(property_result['message']['results'])} results, {len(property_result['message']['auxiliary_graphs'])} enrichments returned\")"
   ]
  },
  {
   "cell_type": "code",
   "execution_count": 113,
   "metadata": {},
   "outputs": [
    {
     "data": {
      "text/plain": [
       "{'edges': [],\n",
       " 'attributes': [{'attribute_type_id': 'biolink:supporting_study_method_type',\n",
       "   'value': 'property_enrichment'},\n",
       "  {'attribute_type_id': 'biolink:p_value', 'value': 1.0465880763988569e-52},\n",
       "  {'attribute_type_id': 'biolink:chemical_role',\n",
       "   'value': 'CHEBI_ROLE_pharmaceutical'}]}"
      ]
     },
     "execution_count": 113,
     "metadata": {},
     "output_type": "execute_result"
    }
   ],
   "source": [
    "property_result['message']['auxiliary_graphs'].get('_n_ac_1_0','')"
   ]
  },
  {
   "cell_type": "code",
   "execution_count": 107,
   "metadata": {},
   "outputs": [
    {
     "data": {
      "text/html": [
       "<div>\n",
       "<style scoped>\n",
       "    .dataframe tbody tr th:only-of-type {\n",
       "        vertical-align: middle;\n",
       "    }\n",
       "\n",
       "    .dataframe tbody tr th {\n",
       "        vertical-align: top;\n",
       "    }\n",
       "\n",
       "    .dataframe thead th {\n",
       "        text-align: right;\n",
       "    }\n",
       "</style>\n",
       "<table border=\"1\" class=\"dataframe\">\n",
       "  <thead>\n",
       "    <tr style=\"text-align: right;\">\n",
       "      <th></th>\n",
       "      <th>NumberGrouped</th>\n",
       "      <th>p_value</th>\n",
       "      <th>PropertyGroup</th>\n",
       "      <th>PropertyId</th>\n",
       "    </tr>\n",
       "  </thead>\n",
       "  <tbody>\n",
       "    <tr>\n",
       "      <th>2</th>\n",
       "      <td>317</td>\n",
       "      <td>8.336618e-100</td>\n",
       "      <td>CHEBI_ROLE_pharmaceutical</td>\n",
       "      <td>_n_ac_84_0</td>\n",
       "    </tr>\n",
       "    <tr>\n",
       "      <th>74</th>\n",
       "      <td>311</td>\n",
       "      <td>4.570827e-99</td>\n",
       "      <td>CHEBI_ROLE_drug</td>\n",
       "      <td>_n_ac_85_0</td>\n",
       "    </tr>\n",
       "    <tr>\n",
       "      <th>98</th>\n",
       "      <td>259</td>\n",
       "      <td>8.314241e-68</td>\n",
       "      <td>CHEBI_ROLE_drug</td>\n",
       "      <td>_n_ac_194_0</td>\n",
       "    </tr>\n",
       "    <tr>\n",
       "      <th>99</th>\n",
       "      <td>260</td>\n",
       "      <td>3.559243e-67</td>\n",
       "      <td>CHEBI_ROLE_pharmaceutical</td>\n",
       "      <td>_n_ac_195_0</td>\n",
       "    </tr>\n",
       "    <tr>\n",
       "      <th>15</th>\n",
       "      <td>161</td>\n",
       "      <td>1.046588e-52</td>\n",
       "      <td>CHEBI_ROLE_pharmaceutical</td>\n",
       "      <td>_n_ac_1_0</td>\n",
       "    </tr>\n",
       "    <tr>\n",
       "      <th>...</th>\n",
       "      <td>...</td>\n",
       "      <td>...</td>\n",
       "      <td>...</td>\n",
       "      <td>...</td>\n",
       "    </tr>\n",
       "    <tr>\n",
       "      <th>79</th>\n",
       "      <td>31</td>\n",
       "      <td>9.296224e-05</td>\n",
       "      <td>CHEBI_ROLE_anti_inflammatory_agent</td>\n",
       "      <td>_n_ac_191_0</td>\n",
       "    </tr>\n",
       "    <tr>\n",
       "      <th>80</th>\n",
       "      <td>7</td>\n",
       "      <td>9.601183e-05</td>\n",
       "      <td>CHEBI_ROLE_neuroprotective_agent</td>\n",
       "      <td>_n_ac_192_0</td>\n",
       "    </tr>\n",
       "    <tr>\n",
       "      <th>82</th>\n",
       "      <td>5</td>\n",
       "      <td>9.617281e-05</td>\n",
       "      <td>CHEBI_ROLE_hematologic_agent</td>\n",
       "      <td>_n_ac_323_0</td>\n",
       "    </tr>\n",
       "    <tr>\n",
       "      <th>297</th>\n",
       "      <td>8</td>\n",
       "      <td>9.663413e-05</td>\n",
       "      <td>CHEBI_ROLE_adrenergic_antagonist</td>\n",
       "      <td>_n_ac_278_0</td>\n",
       "    </tr>\n",
       "    <tr>\n",
       "      <th>201</th>\n",
       "      <td>15</td>\n",
       "      <td>9.809103e-05</td>\n",
       "      <td>CHEBI_ROLE_biophysical_role</td>\n",
       "      <td>_n_ac_193_0</td>\n",
       "    </tr>\n",
       "  </tbody>\n",
       "</table>\n",
       "<p>349 rows × 4 columns</p>\n",
       "</div>"
      ],
      "text/plain": [
       "     NumberGrouped        p_value                       PropertyGroup  \\\n",
       "2              317  8.336618e-100           CHEBI_ROLE_pharmaceutical   \n",
       "74             311   4.570827e-99                     CHEBI_ROLE_drug   \n",
       "98             259   8.314241e-68                     CHEBI_ROLE_drug   \n",
       "99             260   3.559243e-67           CHEBI_ROLE_pharmaceutical   \n",
       "15             161   1.046588e-52           CHEBI_ROLE_pharmaceutical   \n",
       "..             ...            ...                                 ...   \n",
       "79              31   9.296224e-05  CHEBI_ROLE_anti_inflammatory_agent   \n",
       "80               7   9.601183e-05    CHEBI_ROLE_neuroprotective_agent   \n",
       "82               5   9.617281e-05        CHEBI_ROLE_hematologic_agent   \n",
       "297              8   9.663413e-05    CHEBI_ROLE_adrenergic_antagonist   \n",
       "201             15   9.809103e-05         CHEBI_ROLE_biophysical_role   \n",
       "\n",
       "      PropertyId  \n",
       "2     _n_ac_84_0  \n",
       "74    _n_ac_85_0  \n",
       "98   _n_ac_194_0  \n",
       "99   _n_ac_195_0  \n",
       "15     _n_ac_1_0  \n",
       "..           ...  \n",
       "79   _n_ac_191_0  \n",
       "80   _n_ac_192_0  \n",
       "82   _n_ac_323_0  \n",
       "297  _n_ac_278_0  \n",
       "201  _n_ac_193_0  \n",
       "\n",
       "[349 rows x 4 columns]"
      ]
     },
     "execution_count": 107,
     "metadata": {},
     "output_type": "execute_result"
    }
   ],
   "source": [
    "enrichments_to_results  = get_enrichments2results(property_result)\n",
    "auxg = property_result['message']['auxiliary_graphs']\n",
    "row = []\n",
    "for enrichment, chemnodes in enrichments_to_results.items():\n",
    "    attributes = auxg[enrichment]['attributes']\n",
    "    values = [attr['value'] for attr in attributes if attr.get('value')]\n",
    "    row.append([len(chemnodes), values[1], values[2], enrichment])\n",
    "df = pd.DataFrame(row, columns=['NumberGrouped', 'p_value', 'PropertyGroup', 'PropertyId'])\n",
    "df.sort_values(by='p_value',inplace=True)\n",
    "df"
   ]
  },
  {
   "cell_type": "markdown",
   "metadata": {},
   "source": [
    "## Coalescence by Graph"
   ]
  },
  {
   "cell_type": "markdown",
   "metadata": {},
   "source": [
    "Coalescence by graph is similar to coalescence by ontology, but the new relationships can be more general than `is_a`.  "
   ]
  },
  {
   "cell_type": "code",
   "execution_count": 117,
   "metadata": {},
   "outputs": [
    {
     "name": "stdout",
     "output_type": "stream",
     "text": [
      "200\n"
     ]
    }
   ],
   "source": [
    "try:\n",
    "    url = \"https://answercoalesce.renci.org/1.4/coalesce/graph\"\n",
    "    g_r = requests.post(url,json=pp)\n",
    "except:\n",
    "    'curl -X POST -H \"Content-Type: application/json\" -d @pp.json https://answercoalesce.renci.org/1.4/coalesce/all > ac-response.json'\n",
    "print(g_r.status_code)"
   ]
  },
  {
   "cell_type": "code",
   "execution_count": 118,
   "metadata": {},
   "outputs": [
    {
     "name": "stdout",
     "output_type": "stream",
     "text": [
      "dict_keys(['query_graph', 'knowledge_graph', 'results', 'auxiliary_graphs'])\n",
      "3907 results, 3903 enrichments returned\n"
     ]
    }
   ],
   "source": [
    "graph_result = g_r.json()\n",
    "print(graph_result['message'].keys())\n",
    "print(f\"{len(graph_result['message']['results'])} results, {len(graph_result['message']['auxiliary_graphs'])} enrichments returned\")"
   ]
  },
  {
   "cell_type": "code",
   "execution_count": 167,
   "metadata": {},
   "outputs": [
    {
     "data": {
      "text/html": [
       "<div>\n",
       "<style scoped>\n",
       "    .dataframe tbody tr th:only-of-type {\n",
       "        vertical-align: middle;\n",
       "    }\n",
       "\n",
       "    .dataframe tbody tr th {\n",
       "        vertical-align: top;\n",
       "    }\n",
       "\n",
       "    .dataframe thead th {\n",
       "        text-align: right;\n",
       "    }\n",
       "</style>\n",
       "<table border=\"1\" class=\"dataframe\">\n",
       "  <thead>\n",
       "    <tr style=\"text-align: right;\">\n",
       "      <th></th>\n",
       "      <th>NumberGrouped</th>\n",
       "      <th>p_value</th>\n",
       "      <th>EnrichNode</th>\n",
       "      <th>Predicate</th>\n",
       "    </tr>\n",
       "  </thead>\n",
       "  <tbody>\n",
       "    <tr>\n",
       "      <th>0</th>\n",
       "      <td>66</td>\n",
       "      <td>0.0</td>\n",
       "      <td>MONDO:0005359</td>\n",
       "      <td>biolink:contributes_to</td>\n",
       "    </tr>\n",
       "    <tr>\n",
       "      <th>1</th>\n",
       "      <td>47</td>\n",
       "      <td>0.0</td>\n",
       "      <td>NCBIGene:836</td>\n",
       "      <td>biolink:affects</td>\n",
       "    </tr>\n",
       "    <tr>\n",
       "      <th>2</th>\n",
       "      <td>21</td>\n",
       "      <td>0.0</td>\n",
       "      <td>MONDO:0001751</td>\n",
       "      <td>biolink:contributes_to</td>\n",
       "    </tr>\n",
       "    <tr>\n",
       "      <th>3</th>\n",
       "      <td>32</td>\n",
       "      <td>0.0</td>\n",
       "      <td>MESH:D009336</td>\n",
       "      <td>biolink:contributes_to</td>\n",
       "    </tr>\n",
       "    <tr>\n",
       "      <th>4</th>\n",
       "      <td>24</td>\n",
       "      <td>0.0</td>\n",
       "      <td>HP:0002240</td>\n",
       "      <td>biolink:contributes_to</td>\n",
       "    </tr>\n",
       "    <tr>\n",
       "      <th>...</th>\n",
       "      <td>...</td>\n",
       "      <td>...</td>\n",
       "      <td>...</td>\n",
       "      <td>...</td>\n",
       "    </tr>\n",
       "    <tr>\n",
       "      <th>3896</th>\n",
       "      <td>4</td>\n",
       "      <td>0.0</td>\n",
       "      <td>MONDO:0005155</td>\n",
       "      <td>biolink:ameliorates</td>\n",
       "    </tr>\n",
       "    <tr>\n",
       "      <th>3897</th>\n",
       "      <td>21</td>\n",
       "      <td>0.0</td>\n",
       "      <td>HP:0000790</td>\n",
       "      <td>biolink:contributes_to</td>\n",
       "    </tr>\n",
       "    <tr>\n",
       "      <th>3898</th>\n",
       "      <td>1</td>\n",
       "      <td>0.0</td>\n",
       "      <td>MONDO:0016022</td>\n",
       "      <td>biolink:treats</td>\n",
       "    </tr>\n",
       "    <tr>\n",
       "      <th>3899</th>\n",
       "      <td>1</td>\n",
       "      <td>0.0</td>\n",
       "      <td>HP:0001883</td>\n",
       "      <td>biolink:has_adverse_event</td>\n",
       "    </tr>\n",
       "    <tr>\n",
       "      <th>3900</th>\n",
       "      <td>1</td>\n",
       "      <td>0.0</td>\n",
       "      <td>MONDO:0005301</td>\n",
       "      <td>biolink:ameliorates</td>\n",
       "    </tr>\n",
       "  </tbody>\n",
       "</table>\n",
       "<p>3901 rows × 4 columns</p>\n",
       "</div>"
      ],
      "text/plain": [
       "      NumberGrouped p_value     EnrichNode                  Predicate\n",
       "0                66     0.0  MONDO:0005359     biolink:contributes_to\n",
       "1                47     0.0   NCBIGene:836            biolink:affects\n",
       "2                21     0.0  MONDO:0001751     biolink:contributes_to\n",
       "3                32     0.0   MESH:D009336     biolink:contributes_to\n",
       "4                24     0.0     HP:0002240     biolink:contributes_to\n",
       "...             ...     ...            ...                        ...\n",
       "3896              4     0.0  MONDO:0005155        biolink:ameliorates\n",
       "3897             21     0.0     HP:0000790     biolink:contributes_to\n",
       "3898              1     0.0  MONDO:0016022             biolink:treats\n",
       "3899              1     0.0     HP:0001883  biolink:has_adverse_event\n",
       "3900              1     0.0  MONDO:0005301        biolink:ameliorates\n",
       "\n",
       "[3901 rows x 4 columns]"
      ]
     },
     "execution_count": 167,
     "metadata": {},
     "output_type": "execute_result"
    }
   ],
   "source": [
    "enrichments_to_results  = get_enrichments2results(graph_result)\n",
    "auxg = graph_result['message']['auxiliary_graphs']\n",
    "row = []\n",
    "for enrichment, chemnodes in enrichments_to_results.items():\n",
    "    attributes = auxg[enrichment]['attributes']\n",
    "    values = [attr['value'] for attr in attributes if attr.get('value')]\n",
    "    row.append([len(chemnodes), values[1], values[2], values[-1]])\n",
    "df = pd.DataFrame(row, columns=['NumberGrouped', 'p_value', 'EnrichNode', 'Predicate'])\n",
    "# df.sort_values(by='p_value',inplace=True)\n",
    "df"
   ]
  },
  {
   "cell_type": "code",
   "execution_count": 168,
   "metadata": {},
   "outputs": [],
   "source": [
    "from copy import deepcopy\n",
    "gd = deepcopy(graph_result)\n",
    "react_component = GammaViewer(props={\"data\":gd})\n",
    "display(react_component)"
   ]
  },
  {
   "cell_type": "code",
   "execution_count": null,
   "metadata": {},
   "outputs": [],
   "source": [
    "def draw_one(results,rnum):\n",
    "    g = deepcopy(results)\n",
    "    g['message']['results']=[g['message']['results'][rnum]]\n",
    "    kgs = set()\n",
    "    for nb in g['message']['results'][0]['node_bindings'].values():\n",
    "        for kgid in nb:\n",
    "            kgs.add(kgid['id'])\n",
    "    kg = g['message']['knowledge_graph']\n",
    "    kg['nodes'] = [n for n in kg['nodes'] if n in kgs ]\n",
    "    kg['edges'] = [e for e in kg['edges'] if (kg['edges'][e]['subject'] in kgs) or (kg['edges'][e]['object'] in kgs)]\n",
    "    react_component = GammaViewer(props={\"data\":g})\n",
    "    display(react_component)"
   ]
  },
  {
   "cell_type": "code",
   "execution_count": null,
   "metadata": {},
   "outputs": [],
   "source": [
    "draw_one(gd,3)"
   ]
  }
 ],
 "metadata": {
  "interpreter": {
   "hash": "d5e18dff730b573721521a215993a14aab24234f14b7478f6c5ac11b129084bb"
  },
  "kernelspec": {
   "display_name": "Python 3.11.0 ('creativethings')",
   "language": "python",
   "name": "python3"
  },
  "language_info": {
   "codemirror_mode": {
    "name": "ipython",
    "version": 3
   },
   "file_extension": ".py",
   "mimetype": "text/x-python",
   "name": "python",
   "nbconvert_exporter": "python",
   "pygments_lexer": "ipython3",
   "version": "3.11.0"
  }
 },
 "nbformat": 4,
 "nbformat_minor": 4
}
